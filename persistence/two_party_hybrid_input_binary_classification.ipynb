{
 "cells": [
  {
   "cell_type": "markdown",
   "id": "4e2c1d87",
   "metadata": {},
   "source": [
    "# two_party_hybrid_input_binary_classification "
   ]
  },
  {
   "cell_type": "markdown",
   "id": "a1c2715a",
   "metadata": {},
   "source": [
    "## 資料品質檢查"
   ]
  },
  {
   "cell_type": "markdown",
   "id": "1161fb44",
   "metadata": {},
   "source": [
    "### 設定資料路徑 & 參數"
   ]
  },
  {
   "cell_type": "code",
   "execution_count": 1,
   "id": "dac27133",
   "metadata": {},
   "outputs": [],
   "source": [
    "import os\n",
    "guest, host = 9999, 10000\n",
    "data_base = \"/data/projects/fate/\"\n",
    "\n",
    "dense_data = {\"name\": \"titanic_hetero_guest\", \"namespace\": f\"experiment\"}\n",
    "dense_data_dir = os.path.join(data_base, \"persistence/data/titanic_hetero_guest.csv\")"
   ]
  },
  {
   "cell_type": "markdown",
   "id": "07a0df81",
   "metadata": {},
   "source": [
    "### 缺失值 & 欄位名\n",
    "\n",
    "#### 欄位名請全部調整成小寫\n",
    "#### Age欄位有缺失值, 等等可以使用 DataTransform 來填平均年齡 29.7"
   ]
  },
  {
   "cell_type": "code",
   "execution_count": 2,
   "id": "75a11ca7",
   "metadata": {},
   "outputs": [
    {
     "name": "stdout",
     "output_type": "stream",
     "text": [
      "passengerid      0\n",
      "survived         0\n",
      "pclass           0\n",
      "sex              0\n",
      "age            177\n",
      "sibsp            0\n",
      "dtype: int64\n",
      "   passengerid  survived  pclass     sex   age  sibsp\n",
      "0            1         0       3    male  22.0      1\n",
      "1            2         1       1  female  38.0      1\n",
      "2            3         1       3  female  26.0      0\n",
      "3            4         1       1  female  35.0      1\n",
      "4            5         0       3    male  35.0      0\n",
      "The Average Age of Passenger is 29.70\n"
     ]
    }
   ],
   "source": [
    "import pandas as pd\n",
    "dense_df = pd.read_csv(dense_data_dir)\n",
    "print(dense_df.isna().sum())\n",
    "print(dense_df.head(5))\n",
    "print(f\"The Average Age of Passenger is {dense_df.age.mean():.2f}\")"
   ]
  },
  {
   "cell_type": "markdown",
   "id": "547c9664",
   "metadata": {},
   "source": [
    "## 上傳資料"
   ]
  },
  {
   "cell_type": "code",
   "execution_count": 3,
   "id": "77a2c256",
   "metadata": {},
   "outputs": [
    {
     "name": "stdout",
     "output_type": "stream",
     "text": [
      " UPLOADING:||||||||||||||||||||||||||||||||||||||||||||||||||||||||||||||||||||||||||||||||||||||||||||||||||||100.00%"
     ]
    },
    {
     "name": "stderr",
     "output_type": "stream",
     "text": [
      "\u001b[32m2023-06-06 06:37:45.655\u001b[0m | \u001b[1mINFO    \u001b[0m | \u001b[36mpipeline.utils.invoker.job_submitter\u001b[0m:\u001b[36mmonitor_job_status\u001b[0m:\u001b[36m83\u001b[0m - \u001b[1mJob id is 202306060637455117550\n",
      "\u001b[0m\n",
      "\u001b[32m2023-06-06 06:37:45.662\u001b[0m | \u001b[1mINFO    \u001b[0m | \u001b[36mpipeline.utils.invoker.job_submitter\u001b[0m:\u001b[36mmonitor_job_status\u001b[0m:\u001b[36m98\u001b[0m - \u001b[1m\u001b[80D\u001b[1A\u001b[KJob is still waiting, time elapse: 0:00:00\u001b[0m\n"
     ]
    },
    {
     "name": "stdout",
     "output_type": "stream",
     "text": [
      "\n"
     ]
    },
    {
     "name": "stderr",
     "output_type": "stream",
     "text": [
      "\u001b[0mm2023-06-06 06:37:47.687\u001b[0m | \u001b[1mINFO    \u001b[0m | \u001b[36mpipeline.utils.invoker.job_submitter\u001b[0m:\u001b[36mmonitor_job_status\u001b[0m:\u001b[36m125\u001b[0m - \u001b[1m\n",
      "\u001b[32m2023-06-06 06:37:47.688\u001b[0m | \u001b[1mINFO    \u001b[0m | \u001b[36mpipeline.utils.invoker.job_submitter\u001b[0m:\u001b[36mmonitor_job_status\u001b[0m:\u001b[36m127\u001b[0m - \u001b[1m\u001b[80D\u001b[1A\u001b[KRunning component upload_0, time elapse: 0:00:02\u001b[0m\n",
      "\u001b[32m2023-06-06 06:37:48.704\u001b[0m | \u001b[1mINFO    \u001b[0m | \u001b[36mpipeline.utils.invoker.job_submitter\u001b[0m:\u001b[36mmonitor_job_status\u001b[0m:\u001b[36m127\u001b[0m - \u001b[1m\u001b[80D\u001b[1A\u001b[KRunning component upload_0, time elapse: 0:00:03\u001b[0m\n",
      "\u001b[32m2023-06-06 06:37:49.722\u001b[0m | \u001b[1mINFO    \u001b[0m | \u001b[36mpipeline.utils.invoker.job_submitter\u001b[0m:\u001b[36mmonitor_job_status\u001b[0m:\u001b[36m127\u001b[0m - \u001b[1m\u001b[80D\u001b[1A\u001b[KRunning component upload_0, time elapse: 0:00:04\u001b[0m\n",
      "\u001b[32m2023-06-06 06:37:50.736\u001b[0m | \u001b[1mINFO    \u001b[0m | \u001b[36mpipeline.utils.invoker.job_submitter\u001b[0m:\u001b[36mmonitor_job_status\u001b[0m:\u001b[36m127\u001b[0m - \u001b[1m\u001b[80D\u001b[1A\u001b[KRunning component upload_0, time elapse: 0:00:05\u001b[0m\n",
      "\u001b[32m2023-06-06 06:37:51.760\u001b[0m | \u001b[1mINFO    \u001b[0m | \u001b[36mpipeline.utils.invoker.job_submitter\u001b[0m:\u001b[36mmonitor_job_status\u001b[0m:\u001b[36m127\u001b[0m - \u001b[1m\u001b[80D\u001b[1A\u001b[KRunning component upload_0, time elapse: 0:00:06\u001b[0m\n",
      "\u001b[32m2023-06-06 06:37:52.775\u001b[0m | \u001b[1mINFO    \u001b[0m | \u001b[36mpipeline.utils.invoker.job_submitter\u001b[0m:\u001b[36mmonitor_job_status\u001b[0m:\u001b[36m127\u001b[0m - \u001b[1m\u001b[80D\u001b[1A\u001b[KRunning component upload_0, time elapse: 0:00:07\u001b[0m\n",
      "\u001b[32m2023-06-06 06:37:53.798\u001b[0m | \u001b[1mINFO    \u001b[0m | \u001b[36mpipeline.utils.invoker.job_submitter\u001b[0m:\u001b[36mmonitor_job_status\u001b[0m:\u001b[36m127\u001b[0m - \u001b[1m\u001b[80D\u001b[1A\u001b[KRunning component upload_0, time elapse: 0:00:08\u001b[0m\n",
      "\u001b[32m2023-06-06 06:37:54.813\u001b[0m | \u001b[1mINFO    \u001b[0m | \u001b[36mpipeline.utils.invoker.job_submitter\u001b[0m:\u001b[36mmonitor_job_status\u001b[0m:\u001b[36m127\u001b[0m - \u001b[1m\u001b[80D\u001b[1A\u001b[KRunning component upload_0, time elapse: 0:00:09\u001b[0m\n",
      "\u001b[32m2023-06-06 06:37:55.833\u001b[0m | \u001b[1mINFO    \u001b[0m | \u001b[36mpipeline.utils.invoker.job_submitter\u001b[0m:\u001b[36mmonitor_job_status\u001b[0m:\u001b[36m127\u001b[0m - \u001b[1m\u001b[80D\u001b[1A\u001b[KRunning component upload_0, time elapse: 0:00:10\u001b[0m\n",
      "\u001b[32m2023-06-06 06:37:56.843\u001b[0m | \u001b[1mINFO    \u001b[0m | \u001b[36mpipeline.utils.invoker.job_submitter\u001b[0m:\u001b[36mmonitor_job_status\u001b[0m:\u001b[36m89\u001b[0m - \u001b[1mJob is success!!! Job id is 202306060637455117550\u001b[0m\n",
      "\u001b[32m2023-06-06 06:37:56.844\u001b[0m | \u001b[1mINFO    \u001b[0m | \u001b[36mpipeline.utils.invoker.job_submitter\u001b[0m:\u001b[36mmonitor_job_status\u001b[0m:\u001b[36m90\u001b[0m - \u001b[1mTotal time: 0:00:11\u001b[0m\n"
     ]
    }
   ],
   "source": [
    "from pipeline.backend.pipeline import PipeLine\n",
    "pipeline_upload = PipeLine().set_initiator(role='guest', party_id=guest).set_roles(guest=guest)\n",
    "partition = 4\n",
    "\n",
    "pipeline_upload.add_upload_data(file=dense_data_dir,\n",
    "                                table_name=dense_data[\"name\"],             # table name\n",
    "                                namespace=dense_data[\"namespace\"],         # namespace\n",
    "                                head=1, partition=partition)               # data info\n",
    "pipeline_upload.upload(drop=1)"
   ]
  },
  {
   "cell_type": "markdown",
   "id": "d99b4224",
   "metadata": {},
   "source": [
    "### 建構 Training pipeline 範例"
   ]
  },
  {
   "cell_type": "markdown",
   "id": "1b2a054e",
   "metadata": {},
   "source": [
    "使用 `Reader` 模塊來讀取資料, 注意這邊如果有 `K 個 Party` 參與則有 `K 個 Reader`"
   ]
  },
  {
   "cell_type": "code",
   "execution_count": 4,
   "id": "5c8a6f00",
   "metadata": {},
   "outputs": [],
   "source": [
    "from pipeline.component import Reader\n",
    "reader_0 = Reader(name=\"reader_0\")\n",
    "\n",
    "# set guest parameter\n",
    "reader_0.get_party_instance(role='guest', party_id=guest).component_param(\n",
    "    table={\"name\": \"titanic_hetero_guest\", \"namespace\": \"experiment\"})\n",
    "# set host parameter\n",
    "reader_0.get_party_instance(role='host', party_id=host).component_param(\n",
    "    table={\"name\": \"titanic_hetero_host\", \"namespace\": \"experiment\"})"
   ]
  },
  {
   "cell_type": "markdown",
   "id": "837d26ee",
   "metadata": {},
   "source": [
    "使用 `DataTransform` 模塊來讀取資料, 注意這邊如果有 `K 個 Party` 參與則有 `K 個 DataTransform`\n",
    "\n",
    "`DataTransform` 負責資料前處理( 設定目標欄位名稱, 補缺值, 替換 outliers )\n",
    "\n",
    "同時也可以設定各欄位的資料格式, `float`, `str`, `int` 等等"
   ]
  },
  {
   "cell_type": "code",
   "execution_count": 5,
   "id": "535f5922",
   "metadata": {},
   "outputs": [],
   "source": [
    "from pipeline.component import DataTransform\n",
    "data_transform_0 = DataTransform(name=\"data_transform_0\")\n",
    "\n",
    "# set guest parameter\n",
    "data_transform_0.get_party_instance(role='guest', party_id=guest).component_param(\n",
    "    with_label=True, label_name=\"survived\", label_type=\"int\",\n",
    "    missing_fill=True, missing_fill_method=\"designated\", default_value=[\"O\", \"male\", 29.7, 0], outlier_replace=False,\n",
    "    data_type=\"float\", exclusive_data_type={\"pclass\":\"str\", \"sex\":\"str\", \"sibsp\":\"str\"}\n",
    ")\n",
    "\n",
    "data_transform_0.get_party_instance(role='host', party_id=[host]).component_param(\n",
    "    with_label=False,\n",
    "    missing_fill=True, missing_fill_method=\"designated\", default_value=[\"100\", \"0.0\", \"N\"], outlier_replace=False,\n",
    "    data_type=\"float\", exclusive_data_type={\"parch\":\"str\", \"embarked\":\"str\"}\n",
    ")"
   ]
  },
  {
   "cell_type": "code",
   "execution_count": 6,
   "id": "453d7557",
   "metadata": {},
   "outputs": [],
   "source": [
    "from pipeline.component import OneHotEncoder\n",
    "\n",
    "onehot_encoder_0 = OneHotEncoder(name=\"onehot_encoder_0\")\n",
    "\n",
    "onehot_encoder_0.get_party_instance(role='guest', party_id=guest).component_param(\n",
    "    transform_col_indexes=[0, 1, 3], transform_col_names=[\"pclass\", \"sex\", \"sibsp\"]\n",
    ")\n",
    "\n",
    "onehot_encoder_0.get_party_instance(role='host', party_id=[host]).component_param(\n",
    "    transform_col_indexes=[0, 2], transform_col_names=[\"parch\", \"embarked\"]\n",
    ")"
   ]
  },
  {
   "cell_type": "markdown",
   "id": "28de6a3d",
   "metadata": {},
   "source": [
    "使用 `Intersection` 模塊來達到對齊雙方相同顧客 ID, 且不會洩漏非相同顧客的 ID"
   ]
  },
  {
   "cell_type": "code",
   "execution_count": 7,
   "id": "54310467",
   "metadata": {},
   "outputs": [],
   "source": [
    "from pipeline.component import Intersection\n",
    "intersect_0 = Intersection(name=\"intersect_0\")"
   ]
  },
  {
   "cell_type": "markdown",
   "id": "28b99ad9",
   "metadata": {},
   "source": [
    "現在使用 `HeteroSecureBoost` 模塊. 用以下的參數來構建樹模型"
   ]
  },
  {
   "cell_type": "code",
   "execution_count": 8,
   "id": "d1a337c1",
   "metadata": {},
   "outputs": [],
   "source": [
    "from pipeline.component import HeteroSecureBoost\n",
    "hetero_secureboost_0 = HeteroSecureBoost(name=\"hetero_secureboost_0\",\n",
    "                                         num_trees=5,\n",
    "                                         bin_num=16,\n",
    "                                         task_type=\"classification\",\n",
    "                                         objective_param={\"objective\": \"cross_entropy\"},\n",
    "                                         encrypt_param={\"method\": \"iterativeAffine\"},\n",
    "                                         tree_param={\"max_depth\": 3})\n"
   ]
  },
  {
   "cell_type": "markdown",
   "id": "fbd51d08",
   "metadata": {},
   "source": [
    "最後, 為了檢驗好壞 使用 `Evaluation` 模塊來驗證好壞"
   ]
  },
  {
   "cell_type": "code",
   "execution_count": 9,
   "id": "7337b9ea",
   "metadata": {},
   "outputs": [],
   "source": [
    "from pipeline.component import Evaluation\n",
    "evaluation_0 = Evaluation(name=\"evaluation_0\", eval_type=\"binary\")"
   ]
  },
  {
   "cell_type": "markdown",
   "id": "e84bcbee",
   "metadata": {},
   "source": [
    "使用 `pipeline` 模塊來構建聯邦學習流程\n",
    "實例化 `pipeline` 並設定 `initiator` 和 `roles`:\n",
    "\n",
    "    - initiator: \n",
    "        * role: guest\n",
    "        * party: 9999\n",
    "    - roles:\n",
    "        * guest: 9999\n",
    "        * host: 10000\n",
    "        \n",
    "上一個 component 的 output 是下一個 component 的 input\n",
    "\n",
    "    - data_transform_0 吃 reader_0 的 output\n",
    "    - intersect_0 吃 data_transform_0 的 output\n",
    "    - hetero_secureboost_0 吃 intersect_0 的 output\n",
    "    - evaluation_0 吃 hetero_secureboost_0 的 output (預測值)\n",
    "\n",
    "記得用 `pipeline.compile()` 來打包整串流程\n",
    "使用 `pipeline.fit()` 來開始進行訓練"
   ]
  },
  {
   "cell_type": "code",
   "execution_count": null,
   "id": "d2eae8bf",
   "metadata": {},
   "outputs": [
    {
     "name": "stderr",
     "output_type": "stream",
     "text": [
      "\u001b[32m2023-06-06 06:37:57.266\u001b[0m | \u001b[1mINFO    \u001b[0m | \u001b[36mpipeline.utils.invoker.job_submitter\u001b[0m:\u001b[36mmonitor_job_status\u001b[0m:\u001b[36m83\u001b[0m - \u001b[1mJob id is 202306060637569089540\n",
      "\u001b[0m\n",
      "\u001b[32m2023-06-06 06:37:57.274\u001b[0m | \u001b[1mINFO    \u001b[0m | \u001b[36mpipeline.utils.invoker.job_submitter\u001b[0m:\u001b[36mmonitor_job_status\u001b[0m:\u001b[36m98\u001b[0m - \u001b[1m\u001b[80D\u001b[1A\u001b[KJob is still waiting, time elapse: 0:00:00\u001b[0m\n",
      "\u001b[0mm2023-06-06 06:37:58.295\u001b[0m | \u001b[1mINFO    \u001b[0m | \u001b[36mpipeline.utils.invoker.job_submitter\u001b[0m:\u001b[36mmonitor_job_status\u001b[0m:\u001b[36m125\u001b[0m - \u001b[1m\n",
      "\u001b[32m2023-06-06 06:37:58.296\u001b[0m | \u001b[1mINFO    \u001b[0m | \u001b[36mpipeline.utils.invoker.job_submitter\u001b[0m:\u001b[36mmonitor_job_status\u001b[0m:\u001b[36m127\u001b[0m - \u001b[1m\u001b[80D\u001b[1A\u001b[KRunning component reader_0, time elapse: 0:00:01\u001b[0m\n",
      "\u001b[32m2023-06-06 06:37:59.311\u001b[0m | \u001b[1mINFO    \u001b[0m | \u001b[36mpipeline.utils.invoker.job_submitter\u001b[0m:\u001b[36mmonitor_job_status\u001b[0m:\u001b[36m127\u001b[0m - \u001b[1m\u001b[80D\u001b[1A\u001b[KRunning component reader_0, time elapse: 0:00:02\u001b[0m\n",
      "\u001b[32m2023-06-06 06:38:00.328\u001b[0m | \u001b[1mINFO    \u001b[0m | \u001b[36mpipeline.utils.invoker.job_submitter\u001b[0m:\u001b[36mmonitor_job_status\u001b[0m:\u001b[36m127\u001b[0m - \u001b[1m\u001b[80D\u001b[1A\u001b[KRunning component reader_0, time elapse: 0:00:03\u001b[0m\n",
      "\u001b[32m2023-06-06 06:38:01.385\u001b[0m | \u001b[1mINFO    \u001b[0m | \u001b[36mpipeline.utils.invoker.job_submitter\u001b[0m:\u001b[36mmonitor_job_status\u001b[0m:\u001b[36m127\u001b[0m - \u001b[1m\u001b[80D\u001b[1A\u001b[KRunning component reader_0, time elapse: 0:00:04\u001b[0m\n",
      "\u001b[32m2023-06-06 06:38:02.402\u001b[0m | \u001b[1mINFO    \u001b[0m | \u001b[36mpipeline.utils.invoker.job_submitter\u001b[0m:\u001b[36mmonitor_job_status\u001b[0m:\u001b[36m127\u001b[0m - \u001b[1m\u001b[80D\u001b[1A\u001b[KRunning component reader_0, time elapse: 0:00:05\u001b[0m\n",
      "\u001b[32m2023-06-06 06:38:03.417\u001b[0m | \u001b[1mINFO    \u001b[0m | \u001b[36mpipeline.utils.invoker.job_submitter\u001b[0m:\u001b[36mmonitor_job_status\u001b[0m:\u001b[36m127\u001b[0m - \u001b[1m\u001b[80D\u001b[1A\u001b[KRunning component reader_0, time elapse: 0:00:06\u001b[0m\n",
      "\u001b[32m2023-06-06 06:38:04.433\u001b[0m | \u001b[1mINFO    \u001b[0m | \u001b[36mpipeline.utils.invoker.job_submitter\u001b[0m:\u001b[36mmonitor_job_status\u001b[0m:\u001b[36m127\u001b[0m - \u001b[1m\u001b[80D\u001b[1A\u001b[KRunning component reader_0, time elapse: 0:00:07\u001b[0m\n",
      "\u001b[32m2023-06-06 06:38:05.449\u001b[0m | \u001b[1mINFO    \u001b[0m | \u001b[36mpipeline.utils.invoker.job_submitter\u001b[0m:\u001b[36mmonitor_job_status\u001b[0m:\u001b[36m127\u001b[0m - \u001b[1m\u001b[80D\u001b[1A\u001b[KRunning component reader_0, time elapse: 0:00:08\u001b[0m\n",
      "\u001b[32m2023-06-06 06:38:06.520\u001b[0m | \u001b[1mINFO    \u001b[0m | \u001b[36mpipeline.utils.invoker.job_submitter\u001b[0m:\u001b[36mmonitor_job_status\u001b[0m:\u001b[36m127\u001b[0m - \u001b[1m\u001b[80D\u001b[1A\u001b[KRunning component reader_0, time elapse: 0:00:09\u001b[0m\n",
      "\u001b[32m2023-06-06 06:38:07.617\u001b[0m | \u001b[1mINFO    \u001b[0m | \u001b[36mpipeline.utils.invoker.job_submitter\u001b[0m:\u001b[36mmonitor_job_status\u001b[0m:\u001b[36m127\u001b[0m - \u001b[1m\u001b[80D\u001b[1A\u001b[KRunning component reader_0, time elapse: 0:00:10\u001b[0m\n",
      "\u001b[32m2023-06-06 06:38:08.821\u001b[0m | \u001b[1mINFO    \u001b[0m | \u001b[36mpipeline.utils.invoker.job_submitter\u001b[0m:\u001b[36mmonitor_job_status\u001b[0m:\u001b[36m127\u001b[0m - \u001b[1m\u001b[80D\u001b[1A\u001b[KRunning component reader_0, time elapse: 0:00:11\u001b[0m\n",
      "\u001b[32m2023-06-06 06:38:09.914\u001b[0m | \u001b[1mINFO    \u001b[0m | \u001b[36mpipeline.utils.invoker.job_submitter\u001b[0m:\u001b[36mmonitor_job_status\u001b[0m:\u001b[36m127\u001b[0m - \u001b[1m\u001b[80D\u001b[1A\u001b[KRunning component reader_0, time elapse: 0:00:12\u001b[0m\n",
      "\u001b[32m2023-06-06 06:38:11.013\u001b[0m | \u001b[1mINFO    \u001b[0m | \u001b[36mpipeline.utils.invoker.job_submitter\u001b[0m:\u001b[36mmonitor_job_status\u001b[0m:\u001b[36m127\u001b[0m - \u001b[1m\u001b[80D\u001b[1A\u001b[KRunning component reader_0, time elapse: 0:00:13\u001b[0m\n",
      "\u001b[32m2023-06-06 06:38:12.034\u001b[0m | \u001b[1mINFO    \u001b[0m | \u001b[36mpipeline.utils.invoker.job_submitter\u001b[0m:\u001b[36mmonitor_job_status\u001b[0m:\u001b[36m127\u001b[0m - \u001b[1m\u001b[80D\u001b[1A\u001b[KRunning component reader_0, time elapse: 0:00:14\u001b[0m\n",
      "\u001b[32m2023-06-06 06:38:13.122\u001b[0m | \u001b[1mINFO    \u001b[0m | \u001b[36mpipeline.utils.invoker.job_submitter\u001b[0m:\u001b[36mmonitor_job_status\u001b[0m:\u001b[36m127\u001b[0m - \u001b[1m\u001b[80D\u001b[1A\u001b[KRunning component reader_0, time elapse: 0:00:15\u001b[0m\n",
      "\u001b[32m2023-06-06 06:38:14.289\u001b[0m | \u001b[1mINFO    \u001b[0m | \u001b[36mpipeline.utils.invoker.job_submitter\u001b[0m:\u001b[36mmonitor_job_status\u001b[0m:\u001b[36m127\u001b[0m - \u001b[1m\u001b[80D\u001b[1A\u001b[KRunning component reader_0, time elapse: 0:00:17\u001b[0m\n",
      "\u001b[32m2023-06-06 06:38:15.308\u001b[0m | \u001b[1mINFO    \u001b[0m | \u001b[36mpipeline.utils.invoker.job_submitter\u001b[0m:\u001b[36mmonitor_job_status\u001b[0m:\u001b[36m127\u001b[0m - \u001b[1m\u001b[80D\u001b[1A\u001b[KRunning component reader_0, time elapse: 0:00:18\u001b[0m\n",
      "\u001b[32m2023-06-06 06:38:16.398\u001b[0m | \u001b[1mINFO    \u001b[0m | \u001b[36mpipeline.utils.invoker.job_submitter\u001b[0m:\u001b[36mmonitor_job_status\u001b[0m:\u001b[36m127\u001b[0m - \u001b[1m\u001b[80D\u001b[1A\u001b[KRunning component reader_0, time elapse: 0:00:19\u001b[0m\n",
      "\u001b[32m2023-06-06 06:38:17.416\u001b[0m | \u001b[1mINFO    \u001b[0m | \u001b[36mpipeline.utils.invoker.job_submitter\u001b[0m:\u001b[36mmonitor_job_status\u001b[0m:\u001b[36m127\u001b[0m - \u001b[1m\u001b[80D\u001b[1A\u001b[KRunning component reader_0, time elapse: 0:00:20\u001b[0m\n",
      "\u001b[0mm2023-06-06 06:38:18.435\u001b[0m | \u001b[1mINFO    \u001b[0m | \u001b[36mpipeline.utils.invoker.job_submitter\u001b[0m:\u001b[36mmonitor_job_status\u001b[0m:\u001b[36m125\u001b[0m - \u001b[1m\n",
      "\u001b[32m2023-06-06 06:38:18.436\u001b[0m | \u001b[1mINFO    \u001b[0m | \u001b[36mpipeline.utils.invoker.job_submitter\u001b[0m:\u001b[36mmonitor_job_status\u001b[0m:\u001b[36m127\u001b[0m - \u001b[1m\u001b[80D\u001b[1A\u001b[KRunning component data_transform_0, time elapse: 0:00:21\u001b[0m\n",
      "\u001b[32m2023-06-06 06:38:19.454\u001b[0m | \u001b[1mINFO    \u001b[0m | \u001b[36mpipeline.utils.invoker.job_submitter\u001b[0m:\u001b[36mmonitor_job_status\u001b[0m:\u001b[36m127\u001b[0m - \u001b[1m\u001b[80D\u001b[1A\u001b[KRunning component data_transform_0, time elapse: 0:00:22\u001b[0m\n",
      "\u001b[32m2023-06-06 06:38:20.469\u001b[0m | \u001b[1mINFO    \u001b[0m | \u001b[36mpipeline.utils.invoker.job_submitter\u001b[0m:\u001b[36mmonitor_job_status\u001b[0m:\u001b[36m127\u001b[0m - \u001b[1m\u001b[80D\u001b[1A\u001b[KRunning component data_transform_0, time elapse: 0:00:23\u001b[0m\n",
      "\u001b[32m2023-06-06 06:38:21.485\u001b[0m | \u001b[1mINFO    \u001b[0m | \u001b[36mpipeline.utils.invoker.job_submitter\u001b[0m:\u001b[36mmonitor_job_status\u001b[0m:\u001b[36m127\u001b[0m - \u001b[1m\u001b[80D\u001b[1A\u001b[KRunning component data_transform_0, time elapse: 0:00:24\u001b[0m\n",
      "\u001b[32m2023-06-06 06:38:22.501\u001b[0m | \u001b[1mINFO    \u001b[0m | \u001b[36mpipeline.utils.invoker.job_submitter\u001b[0m:\u001b[36mmonitor_job_status\u001b[0m:\u001b[36m127\u001b[0m - \u001b[1m\u001b[80D\u001b[1A\u001b[KRunning component data_transform_0, time elapse: 0:00:25\u001b[0m\n",
      "\u001b[32m2023-06-06 06:38:23.518\u001b[0m | \u001b[1mINFO    \u001b[0m | \u001b[36mpipeline.utils.invoker.job_submitter\u001b[0m:\u001b[36mmonitor_job_status\u001b[0m:\u001b[36m127\u001b[0m - \u001b[1m\u001b[80D\u001b[1A\u001b[KRunning component data_transform_0, time elapse: 0:00:26\u001b[0m\n",
      "\u001b[32m2023-06-06 06:38:24.534\u001b[0m | \u001b[1mINFO    \u001b[0m | \u001b[36mpipeline.utils.invoker.job_submitter\u001b[0m:\u001b[36mmonitor_job_status\u001b[0m:\u001b[36m127\u001b[0m - \u001b[1m\u001b[80D\u001b[1A\u001b[KRunning component data_transform_0, time elapse: 0:00:27\u001b[0m\n",
      "\u001b[32m2023-06-06 06:38:25.611\u001b[0m | \u001b[1mINFO    \u001b[0m | \u001b[36mpipeline.utils.invoker.job_submitter\u001b[0m:\u001b[36mmonitor_job_status\u001b[0m:\u001b[36m127\u001b[0m - \u001b[1m\u001b[80D\u001b[1A\u001b[KRunning component data_transform_0, time elapse: 0:00:28\u001b[0m\n",
      "\u001b[32m2023-06-06 06:38:26.794\u001b[0m | \u001b[1mINFO    \u001b[0m | \u001b[36mpipeline.utils.invoker.job_submitter\u001b[0m:\u001b[36mmonitor_job_status\u001b[0m:\u001b[36m127\u001b[0m - \u001b[1m\u001b[80D\u001b[1A\u001b[KRunning component data_transform_0, time elapse: 0:00:29\u001b[0m\n",
      "\u001b[32m2023-06-06 06:38:27.928\u001b[0m | \u001b[1mINFO    \u001b[0m | \u001b[36mpipeline.utils.invoker.job_submitter\u001b[0m:\u001b[36mmonitor_job_status\u001b[0m:\u001b[36m127\u001b[0m - \u001b[1m\u001b[80D\u001b[1A\u001b[KRunning component data_transform_0, time elapse: 0:00:30\u001b[0m\n",
      "\u001b[32m2023-06-06 06:38:28.988\u001b[0m | \u001b[1mINFO    \u001b[0m | \u001b[36mpipeline.utils.invoker.job_submitter\u001b[0m:\u001b[36mmonitor_job_status\u001b[0m:\u001b[36m127\u001b[0m - \u001b[1m\u001b[80D\u001b[1A\u001b[KRunning component data_transform_0, time elapse: 0:00:31\u001b[0m\n",
      "\u001b[32m2023-06-06 06:38:30.099\u001b[0m | \u001b[1mINFO    \u001b[0m | \u001b[36mpipeline.utils.invoker.job_submitter\u001b[0m:\u001b[36mmonitor_job_status\u001b[0m:\u001b[36m127\u001b[0m - \u001b[1m\u001b[80D\u001b[1A\u001b[KRunning component data_transform_0, time elapse: 0:00:32\u001b[0m\n",
      "\u001b[32m2023-06-06 06:38:31.330\u001b[0m | \u001b[1mINFO    \u001b[0m | \u001b[36mpipeline.utils.invoker.job_submitter\u001b[0m:\u001b[36mmonitor_job_status\u001b[0m:\u001b[36m127\u001b[0m - \u001b[1m\u001b[80D\u001b[1A\u001b[KRunning component data_transform_0, time elapse: 0:00:34\u001b[0m\n",
      "\u001b[32m2023-06-06 06:38:32.503\u001b[0m | \u001b[1mINFO    \u001b[0m | \u001b[36mpipeline.utils.invoker.job_submitter\u001b[0m:\u001b[36mmonitor_job_status\u001b[0m:\u001b[36m127\u001b[0m - \u001b[1m\u001b[80D\u001b[1A\u001b[KRunning component data_transform_0, time elapse: 0:00:35\u001b[0m\n",
      "\u001b[32m2023-06-06 06:38:33.721\u001b[0m | \u001b[1mINFO    \u001b[0m | \u001b[36mpipeline.utils.invoker.job_submitter\u001b[0m:\u001b[36mmonitor_job_status\u001b[0m:\u001b[36m127\u001b[0m - \u001b[1m\u001b[80D\u001b[1A\u001b[KRunning component data_transform_0, time elapse: 0:00:36\u001b[0m\n",
      "\u001b[32m2023-06-06 06:38:34.909\u001b[0m | \u001b[1mINFO    \u001b[0m | \u001b[36mpipeline.utils.invoker.job_submitter\u001b[0m:\u001b[36mmonitor_job_status\u001b[0m:\u001b[36m127\u001b[0m - \u001b[1m\u001b[80D\u001b[1A\u001b[KRunning component data_transform_0, time elapse: 0:00:37\u001b[0m\n"
     ]
    },
    {
     "name": "stderr",
     "output_type": "stream",
     "text": [
      "\u001b[32m2023-06-06 06:38:35.926\u001b[0m | \u001b[1mINFO    \u001b[0m | \u001b[36mpipeline.utils.invoker.job_submitter\u001b[0m:\u001b[36mmonitor_job_status\u001b[0m:\u001b[36m127\u001b[0m - \u001b[1m\u001b[80D\u001b[1A\u001b[KRunning component data_transform_0, time elapse: 0:00:38\u001b[0m\n",
      "\u001b[32m2023-06-06 06:38:37.085\u001b[0m | \u001b[1mINFO    \u001b[0m | \u001b[36mpipeline.utils.invoker.job_submitter\u001b[0m:\u001b[36mmonitor_job_status\u001b[0m:\u001b[36m127\u001b[0m - \u001b[1m\u001b[80D\u001b[1A\u001b[KRunning component data_transform_0, time elapse: 0:00:39\u001b[0m\n",
      "\u001b[32m2023-06-06 06:38:38.104\u001b[0m | \u001b[1mINFO    \u001b[0m | \u001b[36mpipeline.utils.invoker.job_submitter\u001b[0m:\u001b[36mmonitor_job_status\u001b[0m:\u001b[36m127\u001b[0m - \u001b[1m\u001b[80D\u001b[1A\u001b[KRunning component data_transform_0, time elapse: 0:00:40\u001b[0m\n",
      "\u001b[32m2023-06-06 06:38:39.127\u001b[0m | \u001b[1mINFO    \u001b[0m | \u001b[36mpipeline.utils.invoker.job_submitter\u001b[0m:\u001b[36mmonitor_job_status\u001b[0m:\u001b[36m127\u001b[0m - \u001b[1m\u001b[80D\u001b[1A\u001b[KRunning component data_transform_0, time elapse: 0:00:41\u001b[0m\n",
      "\u001b[32m2023-06-06 06:38:40.143\u001b[0m | \u001b[1mINFO    \u001b[0m | \u001b[36mpipeline.utils.invoker.job_submitter\u001b[0m:\u001b[36mmonitor_job_status\u001b[0m:\u001b[36m127\u001b[0m - \u001b[1m\u001b[80D\u001b[1A\u001b[KRunning component data_transform_0, time elapse: 0:00:42\u001b[0m\n",
      "\u001b[32m2023-06-06 06:38:41.215\u001b[0m | \u001b[1mINFO    \u001b[0m | \u001b[36mpipeline.utils.invoker.job_submitter\u001b[0m:\u001b[36mmonitor_job_status\u001b[0m:\u001b[36m127\u001b[0m - \u001b[1m\u001b[80D\u001b[1A\u001b[KRunning component data_transform_0, time elapse: 0:00:43\u001b[0m\n",
      "\u001b[32m2023-06-06 06:38:42.335\u001b[0m | \u001b[1mINFO    \u001b[0m | \u001b[36mpipeline.utils.invoker.job_submitter\u001b[0m:\u001b[36mmonitor_job_status\u001b[0m:\u001b[36m127\u001b[0m - \u001b[1m\u001b[80D\u001b[1A\u001b[KRunning component data_transform_0, time elapse: 0:00:45\u001b[0m\n",
      "\u001b[32m2023-06-06 06:38:43.411\u001b[0m | \u001b[1mINFO    \u001b[0m | \u001b[36mpipeline.utils.invoker.job_submitter\u001b[0m:\u001b[36mmonitor_job_status\u001b[0m:\u001b[36m127\u001b[0m - \u001b[1m\u001b[80D\u001b[1A\u001b[KRunning component data_transform_0, time elapse: 0:00:46\u001b[0m\n",
      "\u001b[0mm2023-06-06 06:38:44.427\u001b[0m | \u001b[1mINFO    \u001b[0m | \u001b[36mpipeline.utils.invoker.job_submitter\u001b[0m:\u001b[36mmonitor_job_status\u001b[0m:\u001b[36m125\u001b[0m - \u001b[1m\n",
      "\u001b[32m2023-06-06 06:38:44.429\u001b[0m | \u001b[1mINFO    \u001b[0m | \u001b[36mpipeline.utils.invoker.job_submitter\u001b[0m:\u001b[36mmonitor_job_status\u001b[0m:\u001b[36m127\u001b[0m - \u001b[1m\u001b[80D\u001b[1A\u001b[KRunning component onehot_encoder_0, time elapse: 0:00:47\u001b[0m\n",
      "\u001b[32m2023-06-06 06:38:45.446\u001b[0m | \u001b[1mINFO    \u001b[0m | \u001b[36mpipeline.utils.invoker.job_submitter\u001b[0m:\u001b[36mmonitor_job_status\u001b[0m:\u001b[36m127\u001b[0m - \u001b[1m\u001b[80D\u001b[1A\u001b[KRunning component onehot_encoder_0, time elapse: 0:00:48\u001b[0m\n",
      "\u001b[32m2023-06-06 06:38:46.461\u001b[0m | \u001b[1mINFO    \u001b[0m | \u001b[36mpipeline.utils.invoker.job_submitter\u001b[0m:\u001b[36mmonitor_job_status\u001b[0m:\u001b[36m127\u001b[0m - \u001b[1m\u001b[80D\u001b[1A\u001b[KRunning component onehot_encoder_0, time elapse: 0:00:49\u001b[0m\n",
      "\u001b[32m2023-06-06 06:38:47.475\u001b[0m | \u001b[1mINFO    \u001b[0m | \u001b[36mpipeline.utils.invoker.job_submitter\u001b[0m:\u001b[36mmonitor_job_status\u001b[0m:\u001b[36m127\u001b[0m - \u001b[1m\u001b[80D\u001b[1A\u001b[KRunning component onehot_encoder_0, time elapse: 0:00:50\u001b[0m\n",
      "\u001b[32m2023-06-06 06:38:48.495\u001b[0m | \u001b[1mINFO    \u001b[0m | \u001b[36mpipeline.utils.invoker.job_submitter\u001b[0m:\u001b[36mmonitor_job_status\u001b[0m:\u001b[36m127\u001b[0m - \u001b[1m\u001b[80D\u001b[1A\u001b[KRunning component onehot_encoder_0, time elapse: 0:00:51\u001b[0m\n",
      "\u001b[32m2023-06-06 06:38:49.511\u001b[0m | \u001b[1mINFO    \u001b[0m | \u001b[36mpipeline.utils.invoker.job_submitter\u001b[0m:\u001b[36mmonitor_job_status\u001b[0m:\u001b[36m127\u001b[0m - \u001b[1m\u001b[80D\u001b[1A\u001b[KRunning component onehot_encoder_0, time elapse: 0:00:52\u001b[0m\n",
      "\u001b[32m2023-06-06 06:38:50.529\u001b[0m | \u001b[1mINFO    \u001b[0m | \u001b[36mpipeline.utils.invoker.job_submitter\u001b[0m:\u001b[36mmonitor_job_status\u001b[0m:\u001b[36m127\u001b[0m - \u001b[1m\u001b[80D\u001b[1A\u001b[KRunning component onehot_encoder_0, time elapse: 0:00:53\u001b[0m\n",
      "\u001b[32m2023-06-06 06:38:51.632\u001b[0m | \u001b[1mINFO    \u001b[0m | \u001b[36mpipeline.utils.invoker.job_submitter\u001b[0m:\u001b[36mmonitor_job_status\u001b[0m:\u001b[36m127\u001b[0m - \u001b[1m\u001b[80D\u001b[1A\u001b[KRunning component onehot_encoder_0, time elapse: 0:00:54\u001b[0m\n",
      "\u001b[32m2023-06-06 06:38:52.809\u001b[0m | \u001b[1mINFO    \u001b[0m | \u001b[36mpipeline.utils.invoker.job_submitter\u001b[0m:\u001b[36mmonitor_job_status\u001b[0m:\u001b[36m127\u001b[0m - \u001b[1m\u001b[80D\u001b[1A\u001b[KRunning component onehot_encoder_0, time elapse: 0:00:55\u001b[0m\n",
      "\u001b[32m2023-06-06 06:38:53.958\u001b[0m | \u001b[1mINFO    \u001b[0m | \u001b[36mpipeline.utils.invoker.job_submitter\u001b[0m:\u001b[36mmonitor_job_status\u001b[0m:\u001b[36m127\u001b[0m - \u001b[1m\u001b[80D\u001b[1A\u001b[KRunning component onehot_encoder_0, time elapse: 0:00:56\u001b[0m\n",
      "\u001b[32m2023-06-06 06:38:55.112\u001b[0m | \u001b[1mINFO    \u001b[0m | \u001b[36mpipeline.utils.invoker.job_submitter\u001b[0m:\u001b[36mmonitor_job_status\u001b[0m:\u001b[36m127\u001b[0m - \u001b[1m\u001b[80D\u001b[1A\u001b[KRunning component onehot_encoder_0, time elapse: 0:00:57\u001b[0m\n",
      "\u001b[32m2023-06-06 06:38:56.196\u001b[0m | \u001b[1mINFO    \u001b[0m | \u001b[36mpipeline.utils.invoker.job_submitter\u001b[0m:\u001b[36mmonitor_job_status\u001b[0m:\u001b[36m127\u001b[0m - \u001b[1m\u001b[80D\u001b[1A\u001b[KRunning component onehot_encoder_0, time elapse: 0:00:58\u001b[0m\n",
      "\u001b[32m2023-06-06 06:38:57.596\u001b[0m | \u001b[1mINFO    \u001b[0m | \u001b[36mpipeline.utils.invoker.job_submitter\u001b[0m:\u001b[36mmonitor_job_status\u001b[0m:\u001b[36m127\u001b[0m - \u001b[1m\u001b[80D\u001b[1A\u001b[KRunning component onehot_encoder_0, time elapse: 0:01:00\u001b[0m\n",
      "\u001b[32m2023-06-06 06:38:58.805\u001b[0m | \u001b[1mINFO    \u001b[0m | \u001b[36mpipeline.utils.invoker.job_submitter\u001b[0m:\u001b[36mmonitor_job_status\u001b[0m:\u001b[36m127\u001b[0m - \u001b[1m\u001b[80D\u001b[1A\u001b[KRunning component onehot_encoder_0, time elapse: 0:01:01\u001b[0m\n",
      "\u001b[32m2023-06-06 06:39:00.539\u001b[0m | \u001b[1mINFO    \u001b[0m | \u001b[36mpipeline.utils.invoker.job_submitter\u001b[0m:\u001b[36mmonitor_job_status\u001b[0m:\u001b[36m127\u001b[0m - \u001b[1m\u001b[80D\u001b[1A\u001b[KRunning component onehot_encoder_0, time elapse: 0:01:03\u001b[0m\n",
      "\u001b[32m2023-06-06 06:39:01.601\u001b[0m | \u001b[1mINFO    \u001b[0m | \u001b[36mpipeline.utils.invoker.job_submitter\u001b[0m:\u001b[36mmonitor_job_status\u001b[0m:\u001b[36m127\u001b[0m - \u001b[1m\u001b[80D\u001b[1A\u001b[KRunning component onehot_encoder_0, time elapse: 0:01:04\u001b[0m\n",
      "\u001b[32m2023-06-06 06:39:02.642\u001b[0m | \u001b[1mINFO    \u001b[0m | \u001b[36mpipeline.utils.invoker.job_submitter\u001b[0m:\u001b[36mmonitor_job_status\u001b[0m:\u001b[36m127\u001b[0m - \u001b[1m\u001b[80D\u001b[1A\u001b[KRunning component onehot_encoder_0, time elapse: 0:01:05\u001b[0m\n",
      "\u001b[32m2023-06-06 06:39:03.661\u001b[0m | \u001b[1mINFO    \u001b[0m | \u001b[36mpipeline.utils.invoker.job_submitter\u001b[0m:\u001b[36mmonitor_job_status\u001b[0m:\u001b[36m127\u001b[0m - \u001b[1m\u001b[80D\u001b[1A\u001b[KRunning component onehot_encoder_0, time elapse: 0:01:06\u001b[0m\n",
      "\u001b[32m2023-06-06 06:39:04.690\u001b[0m | \u001b[1mINFO    \u001b[0m | \u001b[36mpipeline.utils.invoker.job_submitter\u001b[0m:\u001b[36mmonitor_job_status\u001b[0m:\u001b[36m127\u001b[0m - \u001b[1m\u001b[80D\u001b[1A\u001b[KRunning component onehot_encoder_0, time elapse: 0:01:07\u001b[0m\n",
      "\u001b[32m2023-06-06 06:39:05.708\u001b[0m | \u001b[1mINFO    \u001b[0m | \u001b[36mpipeline.utils.invoker.job_submitter\u001b[0m:\u001b[36mmonitor_job_status\u001b[0m:\u001b[36m127\u001b[0m - \u001b[1m\u001b[80D\u001b[1A\u001b[KRunning component onehot_encoder_0, time elapse: 0:01:08\u001b[0m\n",
      "\u001b[32m2023-06-06 06:39:06.748\u001b[0m | \u001b[1mINFO    \u001b[0m | \u001b[36mpipeline.utils.invoker.job_submitter\u001b[0m:\u001b[36mmonitor_job_status\u001b[0m:\u001b[36m127\u001b[0m - \u001b[1m\u001b[80D\u001b[1A\u001b[KRunning component onehot_encoder_0, time elapse: 0:01:09\u001b[0m\n",
      "\u001b[32m2023-06-06 06:39:07.763\u001b[0m | \u001b[1mINFO    \u001b[0m | \u001b[36mpipeline.utils.invoker.job_submitter\u001b[0m:\u001b[36mmonitor_job_status\u001b[0m:\u001b[36m127\u001b[0m - \u001b[1m\u001b[80D\u001b[1A\u001b[KRunning component onehot_encoder_0, time elapse: 0:01:10\u001b[0m\n",
      "\u001b[32m2023-06-06 06:39:08.778\u001b[0m | \u001b[1mINFO    \u001b[0m | \u001b[36mpipeline.utils.invoker.job_submitter\u001b[0m:\u001b[36mmonitor_job_status\u001b[0m:\u001b[36m127\u001b[0m - \u001b[1m\u001b[80D\u001b[1A\u001b[KRunning component onehot_encoder_0, time elapse: 0:01:11\u001b[0m\n",
      "\u001b[0mm2023-06-06 06:39:09.793\u001b[0m | \u001b[1mINFO    \u001b[0m | \u001b[36mpipeline.utils.invoker.job_submitter\u001b[0m:\u001b[36mmonitor_job_status\u001b[0m:\u001b[36m125\u001b[0m - \u001b[1m\n",
      "\u001b[32m2023-06-06 06:39:09.794\u001b[0m | \u001b[1mINFO    \u001b[0m | \u001b[36mpipeline.utils.invoker.job_submitter\u001b[0m:\u001b[36mmonitor_job_status\u001b[0m:\u001b[36m127\u001b[0m - \u001b[1m\u001b[80D\u001b[1A\u001b[KRunning component intersect_0, time elapse: 0:01:12\u001b[0m\n",
      "\u001b[32m2023-06-06 06:39:10.813\u001b[0m | \u001b[1mINFO    \u001b[0m | \u001b[36mpipeline.utils.invoker.job_submitter\u001b[0m:\u001b[36mmonitor_job_status\u001b[0m:\u001b[36m127\u001b[0m - \u001b[1m\u001b[80D\u001b[1A\u001b[KRunning component intersect_0, time elapse: 0:01:13\u001b[0m\n",
      "\u001b[32m2023-06-06 06:39:11.828\u001b[0m | \u001b[1mINFO    \u001b[0m | \u001b[36mpipeline.utils.invoker.job_submitter\u001b[0m:\u001b[36mmonitor_job_status\u001b[0m:\u001b[36m127\u001b[0m - \u001b[1m\u001b[80D\u001b[1A\u001b[KRunning component intersect_0, time elapse: 0:01:14\u001b[0m\n",
      "\u001b[32m2023-06-06 06:39:12.843\u001b[0m | \u001b[1mINFO    \u001b[0m | \u001b[36mpipeline.utils.invoker.job_submitter\u001b[0m:\u001b[36mmonitor_job_status\u001b[0m:\u001b[36m127\u001b[0m - \u001b[1m\u001b[80D\u001b[1A\u001b[KRunning component intersect_0, time elapse: 0:01:15\u001b[0m\n",
      "\u001b[32m2023-06-06 06:39:13.858\u001b[0m | \u001b[1mINFO    \u001b[0m | \u001b[36mpipeline.utils.invoker.job_submitter\u001b[0m:\u001b[36mmonitor_job_status\u001b[0m:\u001b[36m127\u001b[0m - \u001b[1m\u001b[80D\u001b[1A\u001b[KRunning component intersect_0, time elapse: 0:01:16\u001b[0m\n",
      "\u001b[32m2023-06-06 06:39:14.897\u001b[0m | \u001b[1mINFO    \u001b[0m | \u001b[36mpipeline.utils.invoker.job_submitter\u001b[0m:\u001b[36mmonitor_job_status\u001b[0m:\u001b[36m127\u001b[0m - \u001b[1m\u001b[80D\u001b[1A\u001b[KRunning component intersect_0, time elapse: 0:01:17\u001b[0m\n"
     ]
    },
    {
     "name": "stderr",
     "output_type": "stream",
     "text": [
      "\u001b[32m2023-06-06 06:39:15.913\u001b[0m | \u001b[1mINFO    \u001b[0m | \u001b[36mpipeline.utils.invoker.job_submitter\u001b[0m:\u001b[36mmonitor_job_status\u001b[0m:\u001b[36m127\u001b[0m - \u001b[1m\u001b[80D\u001b[1A\u001b[KRunning component intersect_0, time elapse: 0:01:18\u001b[0m\n",
      "\u001b[32m2023-06-06 06:39:16.932\u001b[0m | \u001b[1mINFO    \u001b[0m | \u001b[36mpipeline.utils.invoker.job_submitter\u001b[0m:\u001b[36mmonitor_job_status\u001b[0m:\u001b[36m127\u001b[0m - \u001b[1m\u001b[80D\u001b[1A\u001b[KRunning component intersect_0, time elapse: 0:01:19\u001b[0m\n",
      "\u001b[32m2023-06-06 06:39:18.015\u001b[0m | \u001b[1mINFO    \u001b[0m | \u001b[36mpipeline.utils.invoker.job_submitter\u001b[0m:\u001b[36mmonitor_job_status\u001b[0m:\u001b[36m127\u001b[0m - \u001b[1m\u001b[80D\u001b[1A\u001b[KRunning component intersect_0, time elapse: 0:01:20\u001b[0m\n",
      "\u001b[32m2023-06-06 06:39:19.099\u001b[0m | \u001b[1mINFO    \u001b[0m | \u001b[36mpipeline.utils.invoker.job_submitter\u001b[0m:\u001b[36mmonitor_job_status\u001b[0m:\u001b[36m127\u001b[0m - \u001b[1m\u001b[80D\u001b[1A\u001b[KRunning component intersect_0, time elapse: 0:01:21\u001b[0m\n"
     ]
    }
   ],
   "source": [
    "from pipeline.backend.pipeline import PipeLine\n",
    "from pipeline.interface import Data\n",
    "pipeline = PipeLine() \\\n",
    "        .set_initiator(role='guest', party_id=guest) \\\n",
    "        .set_roles(guest=guest, host=host)\n",
    "\n",
    "pipeline.add_component(reader_0)\n",
    "pipeline.add_component(data_transform_0, data=Data(data=reader_0.output.data))\n",
    "pipeline.add_component(onehot_encoder_0, data=Data(data=data_transform_0.output.data))\n",
    "pipeline.add_component(intersect_0, data=Data(data=onehot_encoder_0.output.data))\n",
    "pipeline.add_component(hetero_secureboost_0, data=Data(train_data=intersect_0.output.data))\n",
    "pipeline.add_component(evaluation_0, data=Data(data=hetero_secureboost_0.output.data))\n",
    "pipeline.compile()\n",
    "pipeline.fit()"
   ]
  },
  {
   "cell_type": "markdown",
   "id": "b8c9a3ef",
   "metadata": {},
   "source": [
    "當訓練結束後, 模型會用來做預測. 使用者可以自由選擇要不要儲存此次 `pipeline` 以方便未來重複使用\n",
    "使用 `pipeline.dump(pipeline_saved_path)` 來完成儲存"
   ]
  },
  {
   "cell_type": "code",
   "execution_count": null,
   "id": "d145a7fb",
   "metadata": {},
   "outputs": [],
   "source": [
    "pipeline.dump(\"pipeline_saved/pipeline_saved_hybrid.pkl\");"
   ]
  },
  {
   "cell_type": "markdown",
   "id": "f8dac374",
   "metadata": {},
   "source": [
    "### 建構 Inference pipeline 範例"
   ]
  },
  {
   "cell_type": "markdown",
   "id": "fea35493",
   "metadata": {},
   "source": [
    "首先, 使用 `PipeLine.load_model_from_file` load `pkl` 檔\n",
    "\n",
    "部署 Inference 需要的模塊, 在這邊是 `data_transform_0`, `onehot_encoder_0`, `intersect_0`, `hetero_secureboost_0`"
   ]
  },
  {
   "cell_type": "code",
   "execution_count": null,
   "id": "ee4d4e35",
   "metadata": {},
   "outputs": [],
   "source": [
    "pipeline = PipeLine.load_model_from_file('pipeline_saved/pipeline_saved_hybrid.pkl')\n",
    "pipeline.deploy_component([pipeline.data_transform_0, \n",
    "                           pipeline.onehot_encoder_0, \n",
    "                           pipeline.intersect_0, \n",
    "                           pipeline.hetero_secureboost_0]);"
   ]
  },
  {
   "cell_type": "markdown",
   "id": "5ce682d3",
   "metadata": {},
   "source": [
    "接著, 部署 `Reader` 模塊 `reader_1` 來讀取新data"
   ]
  },
  {
   "cell_type": "code",
   "execution_count": null,
   "id": "d8eaa91b",
   "metadata": {},
   "outputs": [],
   "source": [
    "reader_1 = Reader(name=\"reader_1\")\n",
    "reader_1.get_party_instance(role=\"guest\", party_id=guest).component_param(table={\"name\": \"titanic_hetero_guest\", \"namespace\": \"experiment\"})\n",
    "reader_1.get_party_instance(role=\"host\", party_id=host).component_param(table={\"name\": \"titanic_hetero_host\", \"namespace\": \"experiment\"})"
   ]
  },
  {
   "cell_type": "markdown",
   "id": "218f47ee",
   "metadata": {},
   "source": [
    "最後, 部署新的 `Evaluation` 來衡量 predict ( Inference ) 的表現"
   ]
  },
  {
   "cell_type": "code",
   "execution_count": null,
   "id": "3f406bf4",
   "metadata": {},
   "outputs": [],
   "source": [
    "evaluation_0 = Evaluation(name=\"evaluation_0\", eval_type=\"binary\")"
   ]
  },
  {
   "cell_type": "markdown",
   "id": "4b2d674b",
   "metadata": {},
   "source": [
    "整合所有模塊"
   ]
  },
  {
   "cell_type": "code",
   "execution_count": null,
   "id": "3ca0c80b",
   "metadata": {},
   "outputs": [],
   "source": [
    "predict_pipeline = PipeLine()\n",
    "predict_pipeline.add_component(reader_1)\\\n",
    "                .add_component(pipeline, \n",
    "                               data=Data(predict_input={pipeline.data_transform_0.input.data: reader_1.output.data}))\\\n",
    "                .add_component(evaluation_0, data=Data(data=pipeline.hetero_secureboost_0.output.data));\n"
   ]
  },
  {
   "cell_type": "markdown",
   "id": "a62ec30f",
   "metadata": {},
   "source": [
    "預測!"
   ]
  },
  {
   "cell_type": "code",
   "execution_count": null,
   "id": "1003477d",
   "metadata": {},
   "outputs": [],
   "source": [
    "predict_pipeline.predict()"
   ]
  },
  {
   "cell_type": "markdown",
   "id": "1fe654ec",
   "metadata": {},
   "source": [
    "用 `pipeline.get_component('evaluation_0').get_summary()` \n",
    "\n",
    "來取得 `evaluation_0` 模塊的資訓儲並存成 json 檔"
   ]
  },
  {
   "cell_type": "code",
   "execution_count": null,
   "id": "706a0c4e",
   "metadata": {},
   "outputs": [],
   "source": [
    "import json\n",
    "data_base = \"/data/projects/fate/\"\n",
    "metadata_saved_dir = os.path.join(data_base, \"persistence/metadata/two_party_hybrid_input_binary_classification.json\")\n",
    "metedata = json.dumps(pipeline.get_component('evaluation_0').get_summary(), indent=4)\n",
    "\n",
    "with open(metadata_saved_dir, \"w\") as json_file:\n",
    "    json_file.write(metedata)\n",
    "                                  \n",
    "print(f\"Write in metadata_saved_dir : {metadata_saved_dir} \\n {metedata}\")"
   ]
  }
 ],
 "metadata": {
  "kernelspec": {
   "display_name": "Python 3 (ipykernel)",
   "language": "python",
   "name": "python3"
  },
  "language_info": {
   "codemirror_mode": {
    "name": "ipython",
    "version": 3
   },
   "file_extension": ".py",
   "mimetype": "text/x-python",
   "name": "python",
   "nbconvert_exporter": "python",
   "pygments_lexer": "ipython3",
   "version": "3.8.13"
  }
 },
 "nbformat": 4,
 "nbformat_minor": 5
}
