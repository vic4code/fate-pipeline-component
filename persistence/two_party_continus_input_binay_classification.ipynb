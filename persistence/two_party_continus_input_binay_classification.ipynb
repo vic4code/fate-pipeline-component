{
 "cells": [
  {
   "cell_type": "markdown",
   "metadata": {},
   "source": [
    "# two_party_continus_input_binay_classification"
   ]
  },
  {
   "cell_type": "markdown",
   "metadata": {},
   "source": [
    "## 資料品質檢查"
   ]
  },
  {
   "cell_type": "markdown",
   "metadata": {},
   "source": [
    "### 設定資料路徑 & 參數"
   ]
  },
  {
   "cell_type": "code",
   "execution_count": 13,
   "metadata": {},
   "outputs": [],
   "source": [
    "import os\n",
    "guest, host = 9999, 10000\n",
    "data_base = \"/data/projects/fate/\"\n",
    "\n",
    "dense_data = {\"name\": \"breast_hetero_guest\", \"namespace\": f\"experiment\"}\n",
    "dense_data_dir = os.path.join(data_base, \"persistence/data/breast_hetero_guest.csv\")"
   ]
  },
  {
   "cell_type": "markdown",
   "metadata": {},
   "source": [
    "### 缺失值 & 欄位名"
   ]
  },
  {
   "cell_type": "code",
   "execution_count": 2,
   "metadata": {},
   "outputs": [
    {
     "name": "stdout",
     "output_type": "stream",
     "text": [
      "id        0\n",
      "target    0\n",
      "x0        0\n",
      "x1        0\n",
      "x2        1\n",
      "x3        1\n",
      "x4        2\n",
      "x5        1\n",
      "x6        1\n",
      "x7        0\n",
      "x8        0\n",
      "x9        2\n",
      "dtype: int64\n",
      "    id  target        x0        x1        x2        x3        x4        x5  \\\n",
      "0  133       1  0.254879 -1.046633  0.209656  0.074214 -0.441366 -0.377645   \n",
      "1  273       1 -1.142928 -0.781198 -1.166747 -0.923578  0.628230 -1.021418   \n",
      "2  175       1 -1.451067 -1.406518       NaN -1.092337 -0.708765 -1.168557   \n",
      "3  551       1 -0.879933  0.420589 -0.877527 -0.780484 -1.037534 -0.483880   \n",
      "4  199       0  0.426758  0.723479  0.316885  0.287273  1.000835       NaN   \n",
      "\n",
      "         x6        x7        x8        x9  \n",
      "0 -0.485934  0.347072 -0.287570 -0.733474  \n",
      "1 -1.111867 -0.959523 -0.096672 -0.121683  \n",
      "2 -1.305831 -1.745063 -0.499499 -0.302893  \n",
      "3 -0.555498 -0.768581  0.433960 -0.200928  \n",
      "4  1.077099  1.053586  2.996525  0.961696  \n"
     ]
    }
   ],
   "source": [
    "import pandas as pd\n",
    "dense_df = pd.read_csv(dense_data_dir)\n",
    "print(dense_df.isna().sum())\n",
    "print(dense_df.head(5))"
   ]
  },
  {
   "cell_type": "markdown",
   "metadata": {},
   "source": [
    "## 上傳資料"
   ]
  },
  {
   "cell_type": "code",
   "execution_count": 3,
   "metadata": {},
   "outputs": [
    {
     "name": "stderr",
     "output_type": "stream",
     "text": [
      "/data/projects/python/venv/lib/python3.8/site-packages/tqdm/auto.py:21: TqdmWarning: IProgress not found. Please update jupyter and ipywidgets. See https://ipywidgets.readthedocs.io/en/stable/user_install.html\n",
      "  from .autonotebook import tqdm as notebook_tqdm\n"
     ]
    },
    {
     "name": "stdout",
     "output_type": "stream",
     "text": [
      " UPLOADING:||||||||||||||||||||||||||||||||||||||||||||||||||||||||||||||||||||||||||||||||||||||||||||||||||||100.00%"
     ]
    },
    {
     "name": "stderr",
     "output_type": "stream",
     "text": [
      "\u001b[32m2023-06-06 03:28:11.792\u001b[0m | \u001b[1mINFO    \u001b[0m | \u001b[36mpipeline.utils.invoker.job_submitter\u001b[0m:\u001b[36mmonitor_job_status\u001b[0m:\u001b[36m83\u001b[0m - \u001b[1mJob id is 202306060328116154190\n",
      "\u001b[0m\n",
      "\u001b[32m2023-06-06 03:28:11.800\u001b[0m | \u001b[1mINFO    \u001b[0m | \u001b[36mpipeline.utils.invoker.job_submitter\u001b[0m:\u001b[36mmonitor_job_status\u001b[0m:\u001b[36m98\u001b[0m - \u001b[1m\u001b[80D\u001b[1A\u001b[KJob is still waiting, time elapse: 0:00:00\u001b[0m\n"
     ]
    },
    {
     "name": "stdout",
     "output_type": "stream",
     "text": [
      "\n"
     ]
    },
    {
     "name": "stderr",
     "output_type": "stream",
     "text": [
      "\u001b[0mm2023-06-06 03:28:12.826\u001b[0m | \u001b[1mINFO    \u001b[0m | \u001b[36mpipeline.utils.invoker.job_submitter\u001b[0m:\u001b[36mmonitor_job_status\u001b[0m:\u001b[36m125\u001b[0m - \u001b[1m\n",
      "\u001b[32m2023-06-06 03:28:12.828\u001b[0m | \u001b[1mINFO    \u001b[0m | \u001b[36mpipeline.utils.invoker.job_submitter\u001b[0m:\u001b[36mmonitor_job_status\u001b[0m:\u001b[36m127\u001b[0m - \u001b[1m\u001b[80D\u001b[1A\u001b[KRunning component upload_0, time elapse: 0:00:01\u001b[0m\n",
      "\u001b[32m2023-06-06 03:28:13.846\u001b[0m | \u001b[1mINFO    \u001b[0m | \u001b[36mpipeline.utils.invoker.job_submitter\u001b[0m:\u001b[36mmonitor_job_status\u001b[0m:\u001b[36m127\u001b[0m - \u001b[1m\u001b[80D\u001b[1A\u001b[KRunning component upload_0, time elapse: 0:00:02\u001b[0m\n",
      "\u001b[32m2023-06-06 03:28:14.860\u001b[0m | \u001b[1mINFO    \u001b[0m | \u001b[36mpipeline.utils.invoker.job_submitter\u001b[0m:\u001b[36mmonitor_job_status\u001b[0m:\u001b[36m127\u001b[0m - \u001b[1m\u001b[80D\u001b[1A\u001b[KRunning component upload_0, time elapse: 0:00:03\u001b[0m\n",
      "\u001b[32m2023-06-06 03:28:15.875\u001b[0m | \u001b[1mINFO    \u001b[0m | \u001b[36mpipeline.utils.invoker.job_submitter\u001b[0m:\u001b[36mmonitor_job_status\u001b[0m:\u001b[36m127\u001b[0m - \u001b[1m\u001b[80D\u001b[1A\u001b[KRunning component upload_0, time elapse: 0:00:04\u001b[0m\n",
      "\u001b[32m2023-06-06 03:28:16.913\u001b[0m | \u001b[1mINFO    \u001b[0m | \u001b[36mpipeline.utils.invoker.job_submitter\u001b[0m:\u001b[36mmonitor_job_status\u001b[0m:\u001b[36m127\u001b[0m - \u001b[1m\u001b[80D\u001b[1A\u001b[KRunning component upload_0, time elapse: 0:00:05\u001b[0m\n",
      "\u001b[32m2023-06-06 03:28:17.945\u001b[0m | \u001b[1mINFO    \u001b[0m | \u001b[36mpipeline.utils.invoker.job_submitter\u001b[0m:\u001b[36mmonitor_job_status\u001b[0m:\u001b[36m127\u001b[0m - \u001b[1m\u001b[80D\u001b[1A\u001b[KRunning component upload_0, time elapse: 0:00:06\u001b[0m\n",
      "\u001b[32m2023-06-06 03:28:19.026\u001b[0m | \u001b[1mINFO    \u001b[0m | \u001b[36mpipeline.utils.invoker.job_submitter\u001b[0m:\u001b[36mmonitor_job_status\u001b[0m:\u001b[36m127\u001b[0m - \u001b[1m\u001b[80D\u001b[1A\u001b[KRunning component upload_0, time elapse: 0:00:07\u001b[0m\n",
      "\u001b[32m2023-06-06 03:28:20.130\u001b[0m | \u001b[1mINFO    \u001b[0m | \u001b[36mpipeline.utils.invoker.job_submitter\u001b[0m:\u001b[36mmonitor_job_status\u001b[0m:\u001b[36m127\u001b[0m - \u001b[1m\u001b[80D\u001b[1A\u001b[KRunning component upload_0, time elapse: 0:00:08\u001b[0m\n",
      "\u001b[32m2023-06-06 03:28:21.148\u001b[0m | \u001b[1mINFO    \u001b[0m | \u001b[36mpipeline.utils.invoker.job_submitter\u001b[0m:\u001b[36mmonitor_job_status\u001b[0m:\u001b[36m89\u001b[0m - \u001b[1mJob is success!!! Job id is 202306060328116154190\u001b[0m\n",
      "\u001b[32m2023-06-06 03:28:21.150\u001b[0m | \u001b[1mINFO    \u001b[0m | \u001b[36mpipeline.utils.invoker.job_submitter\u001b[0m:\u001b[36mmonitor_job_status\u001b[0m:\u001b[36m90\u001b[0m - \u001b[1mTotal time: 0:00:09\u001b[0m\n"
     ]
    }
   ],
   "source": [
    "from pipeline.backend.pipeline import PipeLine\n",
    "pipeline_upload = PipeLine().set_initiator(role='guest', party_id=guest).set_roles(guest=guest)\n",
    "partition = 4\n",
    "\n",
    "pipeline_upload.add_upload_data(file=dense_data_dir,\n",
    "                                table_name=dense_data[\"name\"],             # table name\n",
    "                                namespace=dense_data[\"namespace\"],         # namespace\n",
    "                                head=1, partition=partition)               # data info\n",
    "pipeline_upload.upload(drop=1)"
   ]
  },
  {
   "cell_type": "markdown",
   "metadata": {},
   "source": [
    "### 建構 Training pipeline 範例"
   ]
  },
  {
   "cell_type": "markdown",
   "metadata": {},
   "source": [
    "使用 `pipeline` 模塊來構建聯邦學習流程"
   ]
  },
  {
   "cell_type": "code",
   "execution_count": 4,
   "metadata": {},
   "outputs": [],
   "source": [
    "from pipeline.backend.pipeline import PipeLine\n",
    "from pipeline.component import Reader, DataTransform, Intersection, HeteroSecureBoost, Evaluation\n",
    "from pipeline.interface import Data"
   ]
  },
  {
   "cell_type": "markdown",
   "metadata": {},
   "source": [
    "實例化 `pipeline` 並設定 `initiator` 和 `roles`:\n",
    "\n",
    "    - initiator: \n",
    "        * role: guest\n",
    "        * party: 9999\n",
    "    - roles:\n",
    "        * guest: 9999\n",
    "        * host: 10000\n",
    "    "
   ]
  },
  {
   "cell_type": "code",
   "execution_count": 5,
   "metadata": {},
   "outputs": [],
   "source": [
    "pipeline = PipeLine() \\\n",
    "        .set_initiator(role='guest', party_id=guest) \\\n",
    "        .set_roles(guest=guest, host=host)"
   ]
  },
  {
   "cell_type": "markdown",
   "metadata": {},
   "source": [
    "使用 `Reader` 模塊來讀取資料, 注意這邊如果有 `K 個 Party` 參與則有 `K 個 Reader`"
   ]
  },
  {
   "cell_type": "code",
   "execution_count": 6,
   "metadata": {},
   "outputs": [],
   "source": [
    "reader_0 = Reader(name=\"reader_0\")\n",
    "# set guest parameter\n",
    "reader_0.get_party_instance(role='guest', party_id=guest).component_param(\n",
    "    table={\"name\": \"breast_hetero_guest\", \"namespace\": \"experiment\"})\n",
    "# set host parameter\n",
    "reader_0.get_party_instance(role='host', party_id=host).component_param(\n",
    "    table={\"name\": \"breast_hetero_host\", \"namespace\": \"experiment\"})"
   ]
  },
  {
   "cell_type": "markdown",
   "metadata": {},
   "source": [
    "使用 `DataTransform` 模塊來讀取資料, 注意這邊如果有 `K 個 Party` 參與則有 `K 個 DataTransform`\n",
    "\n",
    "`DataTransform` 負責資料前處理( 設定目標欄位名稱, 補缺值, 替換 outliers )"
   ]
  },
  {
   "cell_type": "code",
   "execution_count": 7,
   "metadata": {},
   "outputs": [],
   "source": [
    "data_transform_0 = DataTransform(name=\"data_transform_0\")\n",
    "# set guest parameter\n",
    "data_transform_0.get_party_instance(role='guest', party_id=guest).component_param(\n",
    "    with_label=True, label_name='target', label_type='int', \n",
    "    missing_fill=True, missing_fill_method=\"designated\", default_value=0.0,\n",
    "    outlier_replace=False, outlier_replace_method=None, outlier_replace_value=0.0\n",
    ")\n",
    "\n",
    "data_transform_0.get_party_instance(role='host', party_id=[host]).component_param(\n",
    "    with_label=False,\n",
    "    missing_fill=True, missing_fill_method=\"designated\", default_value=0.0,\n",
    "    outlier_replace=False, outlier_replace_method=None, outlier_replace_value=0.0\n",
    ")"
   ]
  },
  {
   "cell_type": "markdown",
   "metadata": {},
   "source": [
    "使用 `Intersection` 模塊來達到對齊雙方相同顧客 ID, 且不會洩漏非相同顧客的 ID"
   ]
  },
  {
   "cell_type": "code",
   "execution_count": 8,
   "metadata": {},
   "outputs": [],
   "source": [
    "intersect_0 = Intersection(name=\"intersect_0\")"
   ]
  },
  {
   "cell_type": "markdown",
   "metadata": {},
   "source": [
    "現在使用 `HeteroSecureBoost` 模塊. 用以下的參數來構建樹模型"
   ]
  },
  {
   "cell_type": "code",
   "execution_count": 9,
   "metadata": {},
   "outputs": [],
   "source": [
    "hetero_secureboost_0 = HeteroSecureBoost(name=\"hetero_secureboost_0\",\n",
    "                                         num_trees=5,\n",
    "                                         bin_num=16,\n",
    "                                         task_type=\"classification\",\n",
    "                                         objective_param={\"objective\": \"cross_entropy\"},\n",
    "                                         encrypt_param={\"method\": \"iterativeAffine\"},\n",
    "                                         tree_param={\"max_depth\": 3})\n"
   ]
  },
  {
   "cell_type": "markdown",
   "metadata": {},
   "source": [
    "最後, 為了檢驗好壞 使用 `Evaluation` 模塊來驗證好壞"
   ]
  },
  {
   "cell_type": "code",
   "execution_count": 10,
   "metadata": {},
   "outputs": [],
   "source": [
    "evaluation_0 = Evaluation(name=\"evaluation_0\", eval_type=\"binary\")"
   ]
  },
  {
   "cell_type": "markdown",
   "metadata": {},
   "source": [
    "上一個 component 的 output 是下一個 component 的 input\n",
    "\n",
    "    - data_transform_0 吃 reader_0 的 output\n",
    "    - intersect_0 吃 data_transform_0 的 output\n",
    "    - hetero_secureboost_0 吃 intersect_0 的 output\n",
    "    - evaluation_0 吃 hetero_secureboost_0 的 output (預測值)\n",
    "\n",
    "記得用 `pipeline.compile()` 來打包整串流程\n",
    "使用 `pipeline.fit()` 來開始進行訓練"
   ]
  },
  {
   "cell_type": "code",
   "execution_count": 11,
   "metadata": {
    "scrolled": false
   },
   "outputs": [
    {
     "name": "stderr",
     "output_type": "stream",
     "text": [
      "\u001b[32m2023-06-06 03:28:27.588\u001b[0m | \u001b[1mINFO    \u001b[0m | \u001b[36mpipeline.utils.invoker.job_submitter\u001b[0m:\u001b[36mmonitor_job_status\u001b[0m:\u001b[36m83\u001b[0m - \u001b[1mJob id is 202306060328213040790\n",
      "\u001b[0m\n",
      "\u001b[32m2023-06-06 03:28:27.596\u001b[0m | \u001b[1mINFO    \u001b[0m | \u001b[36mpipeline.utils.invoker.job_submitter\u001b[0m:\u001b[36mmonitor_job_status\u001b[0m:\u001b[36m98\u001b[0m - \u001b[1m\u001b[80D\u001b[1A\u001b[KJob is still waiting, time elapse: 0:00:00\u001b[0m\n",
      "\u001b[32m2023-06-06 03:28:28.606\u001b[0m | \u001b[1mINFO    \u001b[0m | \u001b[36mpipeline.utils.invoker.job_submitter\u001b[0m:\u001b[36mmonitor_job_status\u001b[0m:\u001b[36m98\u001b[0m - \u001b[1m\u001b[80D\u001b[1A\u001b[KJob is still waiting, time elapse: 0:00:01\u001b[0m\n",
      "\u001b[32m2023-06-06 03:28:29.616\u001b[0m | \u001b[1mINFO    \u001b[0m | \u001b[36mpipeline.utils.invoker.job_submitter\u001b[0m:\u001b[36mmonitor_job_status\u001b[0m:\u001b[36m98\u001b[0m - \u001b[1m\u001b[80D\u001b[1A\u001b[KJob is still waiting, time elapse: 0:00:02\u001b[0m\n",
      "\u001b[32m2023-06-06 03:28:30.626\u001b[0m | \u001b[1mINFO    \u001b[0m | \u001b[36mpipeline.utils.invoker.job_submitter\u001b[0m:\u001b[36mmonitor_job_status\u001b[0m:\u001b[36m98\u001b[0m - \u001b[1m\u001b[80D\u001b[1A\u001b[KJob is still waiting, time elapse: 0:00:03\u001b[0m\n",
      "\u001b[0mm2023-06-06 03:28:31.642\u001b[0m | \u001b[1mINFO    \u001b[0m | \u001b[36mpipeline.utils.invoker.job_submitter\u001b[0m:\u001b[36mmonitor_job_status\u001b[0m:\u001b[36m125\u001b[0m - \u001b[1m\n",
      "\u001b[32m2023-06-06 03:28:31.643\u001b[0m | \u001b[1mINFO    \u001b[0m | \u001b[36mpipeline.utils.invoker.job_submitter\u001b[0m:\u001b[36mmonitor_job_status\u001b[0m:\u001b[36m127\u001b[0m - \u001b[1m\u001b[80D\u001b[1A\u001b[KRunning component reader_0, time elapse: 0:00:04\u001b[0m\n",
      "\u001b[32m2023-06-06 03:28:32.658\u001b[0m | \u001b[1mINFO    \u001b[0m | \u001b[36mpipeline.utils.invoker.job_submitter\u001b[0m:\u001b[36mmonitor_job_status\u001b[0m:\u001b[36m127\u001b[0m - \u001b[1m\u001b[80D\u001b[1A\u001b[KRunning component reader_0, time elapse: 0:00:05\u001b[0m\n",
      "\u001b[32m2023-06-06 03:28:33.676\u001b[0m | \u001b[1mINFO    \u001b[0m | \u001b[36mpipeline.utils.invoker.job_submitter\u001b[0m:\u001b[36mmonitor_job_status\u001b[0m:\u001b[36m127\u001b[0m - \u001b[1m\u001b[80D\u001b[1A\u001b[KRunning component reader_0, time elapse: 0:00:06\u001b[0m\n",
      "\u001b[32m2023-06-06 03:28:34.690\u001b[0m | \u001b[1mINFO    \u001b[0m | \u001b[36mpipeline.utils.invoker.job_submitter\u001b[0m:\u001b[36mmonitor_job_status\u001b[0m:\u001b[36m127\u001b[0m - \u001b[1m\u001b[80D\u001b[1A\u001b[KRunning component reader_0, time elapse: 0:00:07\u001b[0m\n",
      "\u001b[32m2023-06-06 03:28:35.706\u001b[0m | \u001b[1mINFO    \u001b[0m | \u001b[36mpipeline.utils.invoker.job_submitter\u001b[0m:\u001b[36mmonitor_job_status\u001b[0m:\u001b[36m127\u001b[0m - \u001b[1m\u001b[80D\u001b[1A\u001b[KRunning component reader_0, time elapse: 0:00:08\u001b[0m\n",
      "\u001b[32m2023-06-06 03:28:36.722\u001b[0m | \u001b[1mINFO    \u001b[0m | \u001b[36mpipeline.utils.invoker.job_submitter\u001b[0m:\u001b[36mmonitor_job_status\u001b[0m:\u001b[36m127\u001b[0m - \u001b[1m\u001b[80D\u001b[1A\u001b[KRunning component reader_0, time elapse: 0:00:09\u001b[0m\n",
      "\u001b[32m2023-06-06 03:28:38.815\u001b[0m | \u001b[31m\u001b[1mERROR   \u001b[0m | \u001b[36m__main__\u001b[0m:\u001b[36m<module>\u001b[0m:\u001b[36m7\u001b[0m - \u001b[31m\u001b[1mAn error has been caught in function '<module>', process 'MainProcess' (130), thread 'MainThread' (140690049443648):\u001b[0m\n",
      "\u001b[33m\u001b[1mTraceback (most recent call last):\u001b[0m\n",
      "\n",
      "  File \"/opt/python3/lib/python3.8/runpy.py\", line 194, in _run_module_as_main\n",
      "    return _run_code(code, main_globals, None,\n",
      "           │         │     └ {'__name__': '__main__', '__doc__': 'Entry point for launching an IPython kernel.\\n\\nThis is separate from the ipykernel pack...\n",
      "           │         └ <code object <module> at 0x7ff4f320e710, file \"/data/projects/python/venv/lib/python3.8/site-packages/ipykernel_launcher.py\",...\n",
      "           └ <function _run_code at 0x7ff4f31f0040>\n",
      "  File \"/opt/python3/lib/python3.8/runpy.py\", line 87, in _run_code\n",
      "    exec(code, run_globals)\n",
      "         │     └ {'__name__': '__main__', '__doc__': 'Entry point for launching an IPython kernel.\\n\\nThis is separate from the ipykernel pack...\n",
      "         └ <code object <module> at 0x7ff4f320e710, file \"/data/projects/python/venv/lib/python3.8/site-packages/ipykernel_launcher.py\",...\n",
      "  File \"/data/projects/python/venv/lib/python3.8/site-packages/ipykernel_launcher.py\", line 17, in <module>\n",
      "    app.launch_new_instance()\n",
      "    │   └ <bound method Application.launch_instance of <class 'ipykernel.kernelapp.IPKernelApp'>>\n",
      "    └ <module 'ipykernel.kernelapp' from '/data/projects/python/venv/lib/python3.8/site-packages/ipykernel/kernelapp.py'>\n",
      "  File \"/data/projects/python/venv/lib/python3.8/site-packages/traitlets/config/application.py\", line 1043, in launch_instance\n",
      "    app.start()\n",
      "    │   └ <function IPKernelApp.start at 0x7ff4e8231a60>\n",
      "    └ <ipykernel.kernelapp.IPKernelApp object at 0x7ff4f32cc850>\n",
      "  File \"/data/projects/python/venv/lib/python3.8/site-packages/ipykernel/kernelapp.py\", line 725, in start\n",
      "    self.io_loop.start()\n",
      "    │    │       └ <function BaseAsyncIOLoop.start at 0x7ff4e81eb700>\n",
      "    │    └ <tornado.platform.asyncio.AsyncIOMainLoop object at 0x7ff4e8201430>\n",
      "    └ <ipykernel.kernelapp.IPKernelApp object at 0x7ff4f32cc850>\n",
      "  File \"/data/projects/python/venv/lib/python3.8/site-packages/tornado/platform/asyncio.py\", line 195, in start\n",
      "    self.asyncio_loop.run_forever()\n",
      "    │    │            └ <function BaseEventLoop.run_forever at 0x7ff4ecc35af0>\n",
      "    │    └ <_UnixSelectorEventLoop running=True closed=False debug=False>\n",
      "    └ <tornado.platform.asyncio.AsyncIOMainLoop object at 0x7ff4e8201430>\n",
      "  File \"/opt/python3/lib/python3.8/asyncio/base_events.py\", line 570, in run_forever\n",
      "    self._run_once()\n",
      "    │    └ <function BaseEventLoop._run_once at 0x7ff4ecc38670>\n",
      "    └ <_UnixSelectorEventLoop running=True closed=False debug=False>\n",
      "  File \"/opt/python3/lib/python3.8/asyncio/base_events.py\", line 1859, in _run_once\n",
      "    handle._run()\n",
      "    │      └ <function Handle._run at 0x7ff4ed27a430>\n",
      "    └ <Handle <TaskWakeupMethWrapper object at 0x7ff471657c10>(<Future finis...1a0>, ...],))>)>\n",
      "  File \"/opt/python3/lib/python3.8/asyncio/events.py\", line 81, in _run\n",
      "    self._context.run(self._callback, *self._args)\n",
      "    │    │            │    │           │    └ <member '_args' of 'Handle' objects>\n",
      "    │    │            │    │           └ <Handle <TaskWakeupMethWrapper object at 0x7ff471657c10>(<Future finis...1a0>, ...],))>)>\n",
      "    │    │            │    └ <member '_callback' of 'Handle' objects>\n",
      "    │    │            └ <Handle <TaskWakeupMethWrapper object at 0x7ff471657c10>(<Future finis...1a0>, ...],))>)>\n",
      "    │    └ <member '_context' of 'Handle' objects>\n",
      "    └ <Handle <TaskWakeupMethWrapper object at 0x7ff471657c10>(<Future finis...1a0>, ...],))>)>\n",
      "  File \"/data/projects/python/venv/lib/python3.8/site-packages/ipykernel/kernelbase.py\", line 513, in dispatch_queue\n",
      "    await self.process_one()\n",
      "          │    └ <function Kernel.process_one at 0x7ff4e8b1b040>\n",
      "          └ <ipykernel.ipkernel.IPythonKernel object at 0x7ff4e8201a90>\n",
      "  File \"/data/projects/python/venv/lib/python3.8/site-packages/ipykernel/kernelbase.py\", line 502, in process_one\n",
      "    await dispatch(*args)\n",
      "          │         └ ([<zmq.sugar.frame.Frame object at 0x7ff47164ba90>, <zmq.sugar.frame.Frame object at 0x7ff471654670>, <zmq.sugar.frame.Frame ...\n",
      "          └ <bound method Kernel.dispatch_shell of <ipykernel.ipkernel.IPythonKernel object at 0x7ff4e8201a90>>\n",
      "  File \"/data/projects/python/venv/lib/python3.8/site-packages/ipykernel/kernelbase.py\", line 409, in dispatch_shell\n",
      "    await result\n",
      "          └ <coroutine object Kernel.execute_request at 0x7ff4e478f540>\n",
      "  File \"/data/projects/python/venv/lib/python3.8/site-packages/ipykernel/kernelbase.py\", line 729, in execute_request\n",
      "    reply_content = await reply_content\n",
      "                          └ <coroutine object IPythonKernel.do_execute at 0x7ff4e478f5c0>\n",
      "  File \"/data/projects/python/venv/lib/python3.8/site-packages/ipykernel/ipkernel.py\", line 422, in do_execute\n",
      "    res = shell.run_cell(\n",
      "          │     └ <function ZMQInteractiveShell.run_cell at 0x7ff4e82211f0>\n",
      "          └ <ipykernel.zmqshell.ZMQInteractiveShell object at 0x7ff4e820f040>\n",
      "  File \"/data/projects/python/venv/lib/python3.8/site-packages/ipykernel/zmqshell.py\", line 540, in run_cell\n",
      "    return super().run_cell(*args, **kwargs)\n",
      "                             │       └ {'store_history': True, 'silent': False, 'cell_id': None}\n",
      "                             └ ('pipeline.add_component(reader_0)\\npipeline.add_component(data_transform_0, data=Data(data=reader_0.output.data))\\npipeline....\n",
      "  File \"/data/projects/python/venv/lib/python3.8/site-packages/IPython/core/interactiveshell.py\", line 3006, in run_cell\n",
      "    result = self._run_cell(\n",
      "             │    └ <function InteractiveShell._run_cell at 0x7ff4e9974ca0>\n",
      "             └ <ipykernel.zmqshell.ZMQInteractiveShell object at 0x7ff4e820f040>\n",
      "  File \"/data/projects/python/venv/lib/python3.8/site-packages/IPython/core/interactiveshell.py\", line 3061, in _run_cell\n",
      "    result = runner(coro)\n",
      "             │      └ <coroutine object InteractiveShell.run_cell_async at 0x7ff4716505c0>\n",
      "             └ <function _pseudo_sync_runner at 0x7ff4e9966550>\n",
      "  File \"/data/projects/python/venv/lib/python3.8/site-packages/IPython/core/async_helpers.py\", line 129, in _pseudo_sync_runner\n",
      "    coro.send(None)\n",
      "    │    └ <method 'send' of 'coroutine' objects>\n",
      "    └ <coroutine object InteractiveShell.run_cell_async at 0x7ff4716505c0>\n",
      "  File \"/data/projects/python/venv/lib/python3.8/site-packages/IPython/core/interactiveshell.py\", line 3266, in run_cell_async\n",
      "    has_raised = await self.run_ast_nodes(code_ast.body, cell_name,\n",
      "                       │    │             │        │     └ '/tmp/ipykernel_130/10245897.py'\n",
      "                       │    │             │        └ [<_ast.Expr object at 0x7ff4e47b5400>, <_ast.Expr object at 0x7ff4e4744910>, <_ast.Expr object at 0x7ff471620760>, <_ast.Expr...\n",
      "                       │    │             └ <_ast.Module object at 0x7ff4e47b55b0>\n",
      "                       │    └ <function InteractiveShell.run_ast_nodes at 0x7ff4e9974f70>\n",
      "                       └ <ipykernel.zmqshell.ZMQInteractiveShell object at 0x7ff4e820f040>\n",
      "  File \"/data/projects/python/venv/lib/python3.8/site-packages/IPython/core/interactiveshell.py\", line 3445, in run_ast_nodes\n",
      "    if await self.run_code(code, result, async_=asy):\n",
      "             │    │        │     │              └ False\n",
      "             │    │        │     └ <ExecutionResult object at 7ff4e4744f10, execution_count=11 error_before_exec=None error_in_exec=None info=<ExecutionInfo obj...\n",
      "             │    │        └ <code object <module> at 0x7ff4713d8b30, file \"/tmp/ipykernel_130/10245897.py\", line 7>\n",
      "             │    └ <function InteractiveShell.run_code at 0x7ff4e9976040>\n",
      "             └ <ipykernel.zmqshell.ZMQInteractiveShell object at 0x7ff4e820f040>\n",
      "  File \"/data/projects/python/venv/lib/python3.8/site-packages/IPython/core/interactiveshell.py\", line 3505, in run_code\n",
      "    exec(code_obj, self.user_global_ns, self.user_ns)\n",
      "         │         │    │               │    └ {'__name__': '__main__', '__doc__': 'Automatically created module for IPython interactive environment', '__package__': None, ...\n",
      "         │         │    │               └ <ipykernel.zmqshell.ZMQInteractiveShell object at 0x7ff4e820f040>\n",
      "         │         │    └ <property object at 0x7ff4e9971040>\n",
      "         │         └ <ipykernel.zmqshell.ZMQInteractiveShell object at 0x7ff4e820f040>\n",
      "         └ <code object <module> at 0x7ff4713d8b30, file \"/tmp/ipykernel_130/10245897.py\", line 7>\n",
      "\n",
      "> File \"\u001b[32m/tmp/ipykernel_130/\u001b[0m\u001b[32m\u001b[1m10245897.py\u001b[0m\", line \u001b[33m7\u001b[0m, in \u001b[35m<module>\u001b[0m\n",
      "    \u001b[1mpipeline\u001b[0m\u001b[35m\u001b[1m.\u001b[0m\u001b[1mfit\u001b[0m\u001b[1m(\u001b[0m\u001b[1m)\u001b[0m\n",
      "    \u001b[36m│        └ \u001b[0m\u001b[36m\u001b[1m<function PipeLine.fit at 0x7ff4716901f0>\u001b[0m\n",
      "    \u001b[36m└ \u001b[0m\u001b[36m\u001b[1m<pipeline.backend.pipeline.PipeLine object at 0x7ff48f03e400>\u001b[0m\n",
      "\n",
      "  File \"\u001b[32m/data/projects/fate/fate/python/fate_client/pipeline/backend/\u001b[0m\u001b[32m\u001b[1mpipeline.py\u001b[0m\", line \u001b[33m585\u001b[0m, in \u001b[35mfit\u001b[0m\n",
      "    \u001b[1mself\u001b[0m\u001b[35m\u001b[1m.\u001b[0m\u001b[1m_fit_status\u001b[0m \u001b[35m\u001b[1m=\u001b[0m \u001b[1mself\u001b[0m\u001b[35m\u001b[1m.\u001b[0m\u001b[1m_job_invoker\u001b[0m\u001b[35m\u001b[1m.\u001b[0m\u001b[1mmonitor_job_status\u001b[0m\u001b[1m(\u001b[0m\u001b[1mself\u001b[0m\u001b[35m\u001b[1m.\u001b[0m\u001b[1m_train_job_id\u001b[0m\u001b[1m,\u001b[0m\n",
      "    \u001b[36m│    │             │    │            │                  │    └ \u001b[0m\u001b[36m\u001b[1m'202306060328213040790'\u001b[0m\n",
      "    \u001b[36m│    │             │    │            │                  └ \u001b[0m\u001b[36m\u001b[1m<pipeline.backend.pipeline.PipeLine object at 0x7ff48f03e400>\u001b[0m\n",
      "    \u001b[36m│    │             │    │            └ \u001b[0m\u001b[36m\u001b[1m<function JobInvoker.monitor_job_status at 0x7ff471687550>\u001b[0m\n",
      "    \u001b[36m│    │             │    └ \u001b[0m\u001b[36m\u001b[1m<pipeline.utils.invoker.job_submitter.JobInvoker object at 0x7ff48f03e7c0>\u001b[0m\n",
      "    \u001b[36m│    │             └ \u001b[0m\u001b[36m\u001b[1m<pipeline.backend.pipeline.PipeLine object at 0x7ff48f03e400>\u001b[0m\n",
      "    \u001b[36m│    └ \u001b[0m\u001b[36m\u001b[1mNone\u001b[0m\n",
      "    \u001b[36m└ \u001b[0m\u001b[36m\u001b[1m<pipeline.backend.pipeline.PipeLine object at 0x7ff48f03e400>\u001b[0m\n",
      "\n",
      "  File \"\u001b[32m/data/projects/fate/fate/python/fate_client/pipeline/utils/invoker/\u001b[0m\u001b[32m\u001b[1mjob_submitter.py\u001b[0m\", line \u001b[33m94\u001b[0m, in \u001b[35mmonitor_job_status\u001b[0m\n",
      "    \u001b[35m\u001b[1mraise\u001b[0m \u001b[1mValueError\u001b[0m\u001b[1m(\u001b[0m\u001b[36mf\"Job is failed, please check out job {job_id} by fate board or fate_flow cli\"\u001b[0m\u001b[1m)\u001b[0m\n",
      "\n",
      "\u001b[31m\u001b[1mValueError\u001b[0m:\u001b[1m Job is failed, please check out job 202306060328213040790 by fate board or fate_flow cli\u001b[0m\n"
     ]
    },
    {
     "ename": "ValueError",
     "evalue": "Job is failed, please check out job 202306060328213040790 by fate board or fate_flow cli",
     "output_type": "error",
     "traceback": [
      "\u001b[0;31m---------------------------------------------------------------------------\u001b[0m",
      "\u001b[0;31mValueError\u001b[0m                                Traceback (most recent call last)",
      "Cell \u001b[0;32mIn[11], line 7\u001b[0m\n\u001b[1;32m      5\u001b[0m pipeline\u001b[38;5;241m.\u001b[39madd_component(evaluation_0, data\u001b[38;5;241m=\u001b[39mData(data\u001b[38;5;241m=\u001b[39mhetero_secureboost_0\u001b[38;5;241m.\u001b[39moutput\u001b[38;5;241m.\u001b[39mdata))\n\u001b[1;32m      6\u001b[0m pipeline\u001b[38;5;241m.\u001b[39mcompile()\n\u001b[0;32m----> 7\u001b[0m \u001b[43mpipeline\u001b[49m\u001b[38;5;241;43m.\u001b[39;49m\u001b[43mfit\u001b[49m\u001b[43m(\u001b[49m\u001b[43m)\u001b[49m\n",
      "File \u001b[0;32m/data/projects/python/venv/lib/python3.8/site-packages/loguru/_logger.py:1251\u001b[0m, in \u001b[0;36mLogger.catch.<locals>.Catcher.__call__.<locals>.catch_wrapper\u001b[0;34m(*args, **kwargs)\u001b[0m\n\u001b[1;32m   1249\u001b[0m \u001b[38;5;28;01mdef\u001b[39;00m \u001b[38;5;21mcatch_wrapper\u001b[39m(\u001b[38;5;241m*\u001b[39margs, \u001b[38;5;241m*\u001b[39m\u001b[38;5;241m*\u001b[39mkwargs):\n\u001b[1;32m   1250\u001b[0m     \u001b[38;5;28;01mwith\u001b[39;00m catcher:\n\u001b[0;32m-> 1251\u001b[0m         \u001b[38;5;28;01mreturn\u001b[39;00m \u001b[43mfunction\u001b[49m\u001b[43m(\u001b[49m\u001b[38;5;241;43m*\u001b[39;49m\u001b[43margs\u001b[49m\u001b[43m,\u001b[49m\u001b[43m \u001b[49m\u001b[38;5;241;43m*\u001b[39;49m\u001b[38;5;241;43m*\u001b[39;49m\u001b[43mkwargs\u001b[49m\u001b[43m)\u001b[49m\n\u001b[1;32m   1252\u001b[0m     \u001b[38;5;28;01mreturn\u001b[39;00m default\n",
      "File \u001b[0;32m/data/projects/fate/fate/python/fate_client/pipeline/backend/pipeline.py:585\u001b[0m, in \u001b[0;36mPipeLine.fit\u001b[0;34m(self, job_parameters, callback_func)\u001b[0m\n\u001b[1;32m    581\u001b[0m \u001b[38;5;28mself\u001b[39m\u001b[38;5;241m.\u001b[39m_train_board_url \u001b[38;5;241m=\u001b[39m detail_info[\u001b[38;5;124m\"\u001b[39m\u001b[38;5;124mboard_url\u001b[39m\u001b[38;5;124m\"\u001b[39m]\n\u001b[1;32m    582\u001b[0m \u001b[38;5;28mself\u001b[39m\u001b[38;5;241m.\u001b[39m_model_info \u001b[38;5;241m=\u001b[39m SimpleNamespace(model_id\u001b[38;5;241m=\u001b[39mdetail_info[\u001b[38;5;124m\"\u001b[39m\u001b[38;5;124mmodel_info\u001b[39m\u001b[38;5;124m\"\u001b[39m][\u001b[38;5;124m\"\u001b[39m\u001b[38;5;124mmodel_id\u001b[39m\u001b[38;5;124m\"\u001b[39m],\n\u001b[1;32m    583\u001b[0m                                    model_version\u001b[38;5;241m=\u001b[39mdetail_info[\u001b[38;5;124m\"\u001b[39m\u001b[38;5;124mmodel_info\u001b[39m\u001b[38;5;124m\"\u001b[39m][\u001b[38;5;124m\"\u001b[39m\u001b[38;5;124mmodel_version\u001b[39m\u001b[38;5;124m\"\u001b[39m])\n\u001b[0;32m--> 585\u001b[0m \u001b[38;5;28mself\u001b[39m\u001b[38;5;241m.\u001b[39m_fit_status \u001b[38;5;241m=\u001b[39m \u001b[38;5;28;43mself\u001b[39;49m\u001b[38;5;241;43m.\u001b[39;49m\u001b[43m_job_invoker\u001b[49m\u001b[38;5;241;43m.\u001b[39;49m\u001b[43mmonitor_job_status\u001b[49m\u001b[43m(\u001b[49m\u001b[38;5;28;43mself\u001b[39;49m\u001b[38;5;241;43m.\u001b[39;49m\u001b[43m_train_job_id\u001b[49m\u001b[43m,\u001b[49m\n\u001b[1;32m    586\u001b[0m \u001b[43m                                                        \u001b[49m\u001b[38;5;28;43mself\u001b[39;49m\u001b[38;5;241;43m.\u001b[39;49m\u001b[43m_initiator\u001b[49m\u001b[38;5;241;43m.\u001b[39;49m\u001b[43mrole\u001b[49m\u001b[43m,\u001b[49m\n\u001b[1;32m    587\u001b[0m \u001b[43m                                                        \u001b[49m\u001b[38;5;28;43mself\u001b[39;49m\u001b[38;5;241;43m.\u001b[39;49m\u001b[43m_initiator\u001b[49m\u001b[38;5;241;43m.\u001b[39;49m\u001b[43mparty_id\u001b[49m\u001b[43m)\u001b[49m\n",
      "File \u001b[0;32m/data/projects/fate/fate/python/fate_client/pipeline/utils/invoker/job_submitter.py:94\u001b[0m, in \u001b[0;36mJobInvoker.monitor_job_status\u001b[0;34m(self, job_id, role, party_id, previous_status)\u001b[0m\n\u001b[1;32m     91\u001b[0m     \u001b[38;5;28;01mreturn\u001b[39;00m StatusCode\u001b[38;5;241m.\u001b[39mSUCCESS\n\u001b[1;32m     93\u001b[0m \u001b[38;5;28;01melif\u001b[39;00m status \u001b[38;5;241m==\u001b[39m JobStatus\u001b[38;5;241m.\u001b[39mFAILED:\n\u001b[0;32m---> 94\u001b[0m     \u001b[38;5;28;01mraise\u001b[39;00m \u001b[38;5;167;01mValueError\u001b[39;00m(\u001b[38;5;124mf\u001b[39m\u001b[38;5;124m\"\u001b[39m\u001b[38;5;124mJob is failed, please check out job \u001b[39m\u001b[38;5;132;01m{\u001b[39;00mjob_id\u001b[38;5;132;01m}\u001b[39;00m\u001b[38;5;124m by fate board or fate_flow cli\u001b[39m\u001b[38;5;124m\"\u001b[39m)\n\u001b[1;32m     96\u001b[0m \u001b[38;5;28;01melif\u001b[39;00m status \u001b[38;5;241m==\u001b[39m JobStatus\u001b[38;5;241m.\u001b[39mWAITING:\n\u001b[1;32m     97\u001b[0m     elapse_seconds \u001b[38;5;241m=\u001b[39m timedelta(seconds\u001b[38;5;241m=\u001b[39m\u001b[38;5;28mint\u001b[39m(time\u001b[38;5;241m.\u001b[39mtime() \u001b[38;5;241m-\u001b[39m start_time))\n",
      "\u001b[0;31mValueError\u001b[0m: Job is failed, please check out job 202306060328213040790 by fate board or fate_flow cli"
     ]
    }
   ],
   "source": [
    "pipeline.add_component(reader_0)\n",
    "pipeline.add_component(data_transform_0, data=Data(data=reader_0.output.data))\n",
    "pipeline.add_component(intersect_0, data=Data(data=data_transform_0.output.data))\n",
    "pipeline.add_component(hetero_secureboost_0, data=Data(train_data=intersect_0.output.data))\n",
    "pipeline.add_component(evaluation_0, data=Data(data=hetero_secureboost_0.output.data))\n",
    "pipeline.compile()\n",
    "pipeline.fit()"
   ]
  },
  {
   "cell_type": "markdown",
   "metadata": {},
   "source": [
    "當訓練結束後, 模型會用來做預測. 使用者可以自由選擇要不要儲存此次 `pipeline` 以方便未來重複使用\n",
    "使用 `pipeline.dump(pipeline_saved_path)` 來完成儲存"
   ]
  },
  {
   "cell_type": "code",
   "execution_count": null,
   "metadata": {},
   "outputs": [],
   "source": [
    "pipeline.dump(\"pipeline_saved/pipeline_saved.pkl\");"
   ]
  },
  {
   "cell_type": "markdown",
   "metadata": {},
   "source": [
    "### 建構 Inference pipeline 範例"
   ]
  },
  {
   "cell_type": "markdown",
   "metadata": {},
   "source": [
    "首先, 使用 `PipeLine.load_model_from_file` load `pkl` 檔\n",
    "\n",
    "部署 Inference 需要的模塊, 在這邊是 `data_transform_0`, `intersect_0`, `hetero_secureboost_0`"
   ]
  },
  {
   "cell_type": "code",
   "execution_count": null,
   "metadata": {},
   "outputs": [],
   "source": [
    "pipeline = PipeLine.load_model_from_file('pipeline_saved/pipeline_saved.pkl')\n",
    "pipeline.deploy_component([pipeline.data_transform_0, pipeline.intersect_0, pipeline.hetero_secureboost_0]);"
   ]
  },
  {
   "cell_type": "markdown",
   "metadata": {},
   "source": [
    "接著, 部署 `Reader` 模塊 `reader_1` 來讀取新data"
   ]
  },
  {
   "cell_type": "code",
   "execution_count": null,
   "metadata": {},
   "outputs": [],
   "source": [
    "reader_1 = Reader(name=\"reader_1\")\n",
    "reader_1.get_party_instance(role=\"guest\", party_id=guest).component_param(table={\"name\": \"breast_hetero_guest\", \"namespace\": \"experiment\"})\n",
    "reader_1.get_party_instance(role=\"host\", party_id=host).component_param(table={\"name\": \"breast_hetero_host\", \"namespace\": \"experiment\"})"
   ]
  },
  {
   "cell_type": "markdown",
   "metadata": {},
   "source": [
    "最後, 部署新的 `Evaluation` 來衡量 predict ( Inference ) 的表現"
   ]
  },
  {
   "cell_type": "code",
   "execution_count": null,
   "metadata": {},
   "outputs": [],
   "source": [
    "evaluation_0 = Evaluation(name=\"evaluation_0\", eval_type=\"binary\")"
   ]
  },
  {
   "cell_type": "markdown",
   "metadata": {},
   "source": [
    "整合所有模塊"
   ]
  },
  {
   "cell_type": "code",
   "execution_count": null,
   "metadata": {},
   "outputs": [],
   "source": [
    "predict_pipeline = PipeLine()\n",
    "predict_pipeline.add_component(reader_1)\\\n",
    "                .add_component(pipeline, \n",
    "                               data=Data(predict_input={pipeline.data_transform_0.input.data: reader_1.output.data}))\\\n",
    "                .add_component(evaluation_0, data=Data(data=pipeline.hetero_secureboost_0.output.data));\n"
   ]
  },
  {
   "cell_type": "markdown",
   "metadata": {},
   "source": [
    "預測!"
   ]
  },
  {
   "cell_type": "code",
   "execution_count": 12,
   "metadata": {
    "scrolled": true
   },
   "outputs": [
    {
     "ename": "NameError",
     "evalue": "name 'predict_pipeline' is not defined",
     "output_type": "error",
     "traceback": [
      "\u001b[0;31m---------------------------------------------------------------------------\u001b[0m",
      "\u001b[0;31mNameError\u001b[0m                                 Traceback (most recent call last)",
      "Cell \u001b[0;32mIn[12], line 1\u001b[0m\n\u001b[0;32m----> 1\u001b[0m \u001b[43mpredict_pipeline\u001b[49m\u001b[38;5;241m.\u001b[39mpredict()\n",
      "\u001b[0;31mNameError\u001b[0m: name 'predict_pipeline' is not defined"
     ]
    }
   ],
   "source": [
    "predict_pipeline.predict()"
   ]
  },
  {
   "cell_type": "markdown",
   "metadata": {},
   "source": [
    "用 `pipeline.get_component('evaluation_0').get_summary()` \n",
    "\n",
    "來取得 `evaluation_0` 模塊的資訓儲並存成 json 檔"
   ]
  },
  {
   "cell_type": "code",
   "execution_count": null,
   "metadata": {},
   "outputs": [],
   "source": [
    "import json\n",
    "data_base = \"/data/projects/fate/\"\n",
    "metadata_saved_dir = os.path.join(data_base, \"persistence/metadata/two_party_continus_input_binay_classification.json\")\n",
    "metedata = json.dumps(pipeline.get_component('evaluation_0').get_summary(), indent=4)\n",
    "\n",
    "with open(metadata_saved_dir, \"w\") as json_file:\n",
    "    json_file.write(metedata)\n",
    "                                  \n",
    "print(f\"Write in metadata_saved_dir : {metadata_saved_dir} \\n {metedata}\")"
   ]
  }
 ],
 "metadata": {
  "interpreter": {
   "hash": "ad4309918fa4cd1705b305e369b2f64d901b1851e9144aef7b9b07ea3efcb1bb"
  },
  "kernelspec": {
   "display_name": "Python 3 (ipykernel)",
   "language": "python",
   "name": "python3"
  },
  "language_info": {
   "codemirror_mode": {
    "name": "ipython",
    "version": 3
   },
   "file_extension": ".py",
   "mimetype": "text/x-python",
   "name": "python",
   "nbconvert_exporter": "python",
   "pygments_lexer": "ipython3",
   "version": "3.8.13"
  }
 },
 "nbformat": 4,
 "nbformat_minor": 4
}
